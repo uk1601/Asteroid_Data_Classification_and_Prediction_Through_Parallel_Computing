{
 "cells": [
  {
   "cell_type": "markdown",
   "id": "e75b6bc1-1934-47b8-9c11-a6edadd01dbe",
   "metadata": {},
   "source": [
    "# Asteroid Class Prediction Leveraging Parallelization Techniques \n",
    "\n",
    "<div style=\"text-align: right\">  \n",
    "<strong>Uday Kiran Dasari</strong> \n",
    "</div>\n",
    "<br/>\n",
    "<center>\n",
    "<img src=\"Asteroid.jpg\" width=700 />\n",
    "</center>\n",
    "<br/>\n",
    "\n",
    "**Link to Dataset used**: [**Asteroid Dataset**](https://www.kaggle.com/datasets/sakhawat18/asteroid-dataset/data)\n",
    "\n",
    "### Dataset Description\n",
    "\n",
    "- **SPK-ID:** Object primary SPK-ID\n",
    "- **Object ID:** Object internal database ID\n",
    "- **Object fullname:** Object full name/designation\n",
    "- **pdes:** Object primary designation\n",
    "- **name:** Object IAU name\n",
    "- **NEO:** Near-Earth Object (NEO) flag\n",
    "- **PHA:** Potentially Hazardous Asteroid (PHA) flag\n",
    "- **H:** Absolute magnitude parameter\n",
    "- **Diameter:** Object diameter (from equivalent sphere) km Unit\n",
    "- **Albedo:** Geometric albedo\n",
    "- **Diameter_sigma:** 1-sigma uncertainty in object diameter km Unit\n",
    "- **Orbit_id:** Orbit solution ID\n",
    "- **Epoch:** Epoch of osculation in modified Julian day form\n",
    "- **Equinox:** Equinox of reference frame\n",
    "- **e:** Eccentricity\n",
    "- **a:** Semi-major axis au Unit\n",
    "- **q:** Perihelion distance au Unit\n",
    "- **i:** Inclination; angle with respect to x-y ecliptic plane\n",
    "- **tp:** Time of perihelion passage TDB Unit\n",
    "- **moid_ld:** Earth Minimum Orbit Intersection Distance au Unit\n",
    "-y ecliptic plane"
   ]
  },
  {
   "cell_type": "markdown",
   "id": "021b9b9b-dbdf-4f49-b4f4-7c6c7b5a384a",
   "metadata": {},
   "source": [
    "### Necessary Libraries"
   ]
  },
  {
   "cell_type": "code",
   "execution_count": 1,
   "id": "16f11f8d-6587-4f3e-9497-73ed6d75ebc8",
   "metadata": {},
   "outputs": [],
   "source": [
    "# Basic imports\n",
    "import joblib\n",
    "import numpy as np\n",
    "import pandas as pd\n",
    "import time\n",
    "import multiprocessing\n",
    "\n",
    "# Visualization imports\n",
    "import matplotlib\n",
    "import matplotlib.pyplot as plt\n",
    "import seaborn as sns\n",
    "\n",
    "# Scikit-learn imports\n",
    "from sklearn.ensemble import ExtraTreesClassifier\n",
    "#from sklearn.model_selection import train_test_split, GridSearchCV\n",
    "from sklearn.metrics import accuracy_score, confusion_matrix, classification_report\n",
    "from sklearn.neighbors import KNeighborsClassifier\n",
    "from sklearn.preprocessing import StandardScaler, OneHotEncoder, LabelEncoder\n",
    "\n",
    "# Dask-related imports\n",
    "import dask\n",
    "import dask.array as da\n",
    "import dask.dataframe as dd\n",
    "from dask_ml.impute import SimpleImputer\n",
    "from dask.distributed import Client, config, performance_report\n",
    "from dask.diagnostics import ProgressBar\n",
    "from dask_ml.model_selection import GridSearchCV,train_test_split\n",
    "\n",
    "# Set the daemon configuration for Dask workers\n",
    "dask.config.set({'distributed.worker.daemon': False})\n",
    "import torch\n",
    "# Inline matplotlib setup\n",
    "%matplotlib inline"
   ]
  },
  {
   "cell_type": "code",
   "execution_count": 2,
   "id": "7c5109bf-4521-4f98-acf4-409dd4e26668",
   "metadata": {},
   "outputs": [
    {
     "name": "stdout",
     "output_type": "stream",
     "text": [
      "Number of CPU cores: 28\n"
     ]
    }
   ],
   "source": [
    "num_cpu_cores = torch.get_num_threads()\n",
    "print(\"Number of CPU cores:\", num_cpu_cores)"
   ]
  },
  {
   "cell_type": "code",
   "execution_count": 3,
   "id": "0fd4edd1-6a8f-4c32-bc34-161228d155ce",
   "metadata": {},
   "outputs": [
    {
     "data": {
      "text/plain": [
       "device(type='cuda')"
      ]
     },
     "execution_count": 3,
     "metadata": {},
     "output_type": "execute_result"
    }
   ],
   "source": [
    "device = torch.device(\"cuda\" if torch.cuda.is_available() else \"cpu\")\n",
    "device"
   ]
  },
  {
   "cell_type": "markdown",
   "id": "5d8d8705-121c-42f4-ac84-855ae80bfaaa",
   "metadata": {},
   "source": [
    "### Data Preprocessing"
   ]
  },
  {
   "cell_type": "markdown",
   "id": "dc817f64-5c29-4504-ab7a-463f78694cce",
   "metadata": {},
   "source": [
    "#### Loading the dataset"
   ]
  },
  {
   "cell_type": "code",
   "execution_count": 4,
   "id": "8d151130-01cd-41ed-bd6b-7be891bb65fa",
   "metadata": {},
   "outputs": [
    {
     "name": "stdout",
     "output_type": "stream",
     "text": [
      "CPU times: user 29.4 ms, sys: 6.84 ms, total: 36.3 ms\n",
      "Wall time: 35.6 ms\n"
     ]
    }
   ],
   "source": [
    "%%time\n",
    "# Load the dataset with specified data types\n",
    "astro_ds = dd.read_csv('./dataset.csv')"
   ]
  },
  {
   "cell_type": "code",
   "execution_count": 5,
   "id": "fcf2f266-1591-43c8-8156-d0da7c063770",
   "metadata": {},
   "outputs": [
    {
     "name": "stdout",
     "output_type": "stream",
     "text": [
      "id                string[pyarrow]\n",
      "spkid                       int64\n",
      "full_name         string[pyarrow]\n",
      "pdes                        int64\n",
      "name              string[pyarrow]\n",
      "prefix                    float64\n",
      "neo               string[pyarrow]\n",
      "pha               string[pyarrow]\n",
      "H                         float64\n",
      "diameter                  float64\n",
      "albedo                    float64\n",
      "diameter_sigma            float64\n",
      "orbit_id          string[pyarrow]\n",
      "epoch                     float64\n",
      "epoch_mjd                   int64\n",
      "epoch_cal                 float64\n",
      "equinox           string[pyarrow]\n",
      "e                         float64\n",
      "a                         float64\n",
      "q                         float64\n",
      "i                         float64\n",
      "om                        float64\n",
      "w                         float64\n",
      "ma                        float64\n",
      "ad                        float64\n",
      "n                         float64\n",
      "tp                        float64\n",
      "tp_cal                    float64\n",
      "per                       float64\n",
      "per_y                     float64\n",
      "moid                      float64\n",
      "moid_ld                   float64\n",
      "sigma_e                   float64\n",
      "sigma_a                   float64\n",
      "sigma_q                   float64\n",
      "sigma_i                   float64\n",
      "sigma_om                  float64\n",
      "sigma_w                   float64\n",
      "sigma_ma                  float64\n",
      "sigma_ad                  float64\n",
      "sigma_n                   float64\n",
      "sigma_tp                  float64\n",
      "sigma_per                 float64\n",
      "class             string[pyarrow]\n",
      "rms                       float64\n",
      "dtype: object\n"
     ]
    },
    {
     "data": {
      "text/html": [
       "<div>\n",
       "<style scoped>\n",
       "    .dataframe tbody tr th:only-of-type {\n",
       "        vertical-align: middle;\n",
       "    }\n",
       "\n",
       "    .dataframe tbody tr th {\n",
       "        vertical-align: top;\n",
       "    }\n",
       "\n",
       "    .dataframe thead th {\n",
       "        text-align: right;\n",
       "    }\n",
       "</style>\n",
       "<table border=\"1\" class=\"dataframe\">\n",
       "  <thead>\n",
       "    <tr style=\"text-align: right;\">\n",
       "      <th></th>\n",
       "      <th>id</th>\n",
       "      <th>spkid</th>\n",
       "      <th>full_name</th>\n",
       "      <th>pdes</th>\n",
       "      <th>name</th>\n",
       "      <th>prefix</th>\n",
       "      <th>neo</th>\n",
       "      <th>pha</th>\n",
       "      <th>H</th>\n",
       "      <th>diameter</th>\n",
       "      <th>...</th>\n",
       "      <th>sigma_i</th>\n",
       "      <th>sigma_om</th>\n",
       "      <th>sigma_w</th>\n",
       "      <th>sigma_ma</th>\n",
       "      <th>sigma_ad</th>\n",
       "      <th>sigma_n</th>\n",
       "      <th>sigma_tp</th>\n",
       "      <th>sigma_per</th>\n",
       "      <th>class</th>\n",
       "      <th>rms</th>\n",
       "    </tr>\n",
       "  </thead>\n",
       "  <tbody>\n",
       "    <tr>\n",
       "      <th>0</th>\n",
       "      <td>a0000001</td>\n",
       "      <td>2000001</td>\n",
       "      <td>1 Ceres</td>\n",
       "      <td>1</td>\n",
       "      <td>Ceres</td>\n",
       "      <td>NaN</td>\n",
       "      <td>N</td>\n",
       "      <td>N</td>\n",
       "      <td>3.40</td>\n",
       "      <td>939.400</td>\n",
       "      <td>...</td>\n",
       "      <td>4.608900e-09</td>\n",
       "      <td>6.168800e-08</td>\n",
       "      <td>6.624800e-08</td>\n",
       "      <td>7.820700e-09</td>\n",
       "      <td>1.111300e-11</td>\n",
       "      <td>1.196500e-12</td>\n",
       "      <td>3.782900e-08</td>\n",
       "      <td>9.415900e-09</td>\n",
       "      <td>MBA</td>\n",
       "      <td>0.43301</td>\n",
       "    </tr>\n",
       "    <tr>\n",
       "      <th>1</th>\n",
       "      <td>a0000002</td>\n",
       "      <td>2000002</td>\n",
       "      <td>2 Pallas</td>\n",
       "      <td>2</td>\n",
       "      <td>Pallas</td>\n",
       "      <td>NaN</td>\n",
       "      <td>N</td>\n",
       "      <td>N</td>\n",
       "      <td>4.20</td>\n",
       "      <td>545.000</td>\n",
       "      <td>...</td>\n",
       "      <td>3.469400e-06</td>\n",
       "      <td>6.272400e-06</td>\n",
       "      <td>9.128200e-06</td>\n",
       "      <td>8.859100e-06</td>\n",
       "      <td>4.961300e-09</td>\n",
       "      <td>4.653600e-10</td>\n",
       "      <td>4.078700e-05</td>\n",
       "      <td>3.680700e-06</td>\n",
       "      <td>MBA</td>\n",
       "      <td>0.35936</td>\n",
       "    </tr>\n",
       "    <tr>\n",
       "      <th>2</th>\n",
       "      <td>a0000003</td>\n",
       "      <td>2000003</td>\n",
       "      <td>3 Juno</td>\n",
       "      <td>3</td>\n",
       "      <td>Juno</td>\n",
       "      <td>NaN</td>\n",
       "      <td>N</td>\n",
       "      <td>N</td>\n",
       "      <td>5.33</td>\n",
       "      <td>246.596</td>\n",
       "      <td>...</td>\n",
       "      <td>3.223100e-06</td>\n",
       "      <td>1.664600e-05</td>\n",
       "      <td>1.772100e-05</td>\n",
       "      <td>8.110400e-06</td>\n",
       "      <td>4.363900e-09</td>\n",
       "      <td>4.413400e-10</td>\n",
       "      <td>3.528800e-05</td>\n",
       "      <td>3.107200e-06</td>\n",
       "      <td>MBA</td>\n",
       "      <td>0.33848</td>\n",
       "    </tr>\n",
       "    <tr>\n",
       "      <th>3</th>\n",
       "      <td>a0000004</td>\n",
       "      <td>2000004</td>\n",
       "      <td>4 Vesta</td>\n",
       "      <td>4</td>\n",
       "      <td>Vesta</td>\n",
       "      <td>NaN</td>\n",
       "      <td>N</td>\n",
       "      <td>N</td>\n",
       "      <td>3.00</td>\n",
       "      <td>525.400</td>\n",
       "      <td>...</td>\n",
       "      <td>2.170600e-07</td>\n",
       "      <td>3.880800e-07</td>\n",
       "      <td>1.789300e-07</td>\n",
       "      <td>1.206800e-06</td>\n",
       "      <td>1.648600e-09</td>\n",
       "      <td>2.612500e-10</td>\n",
       "      <td>4.103700e-06</td>\n",
       "      <td>1.274900e-06</td>\n",
       "      <td>MBA</td>\n",
       "      <td>0.39980</td>\n",
       "    </tr>\n",
       "    <tr>\n",
       "      <th>4</th>\n",
       "      <td>a0000005</td>\n",
       "      <td>2000005</td>\n",
       "      <td>5 Astraea</td>\n",
       "      <td>5</td>\n",
       "      <td>Astraea</td>\n",
       "      <td>NaN</td>\n",
       "      <td>N</td>\n",
       "      <td>N</td>\n",
       "      <td>6.90</td>\n",
       "      <td>106.699</td>\n",
       "      <td>...</td>\n",
       "      <td>2.740800e-06</td>\n",
       "      <td>2.894900e-05</td>\n",
       "      <td>2.984200e-05</td>\n",
       "      <td>8.303800e-06</td>\n",
       "      <td>4.729000e-09</td>\n",
       "      <td>5.522700e-10</td>\n",
       "      <td>3.474300e-05</td>\n",
       "      <td>3.490500e-06</td>\n",
       "      <td>MBA</td>\n",
       "      <td>0.52191</td>\n",
       "    </tr>\n",
       "  </tbody>\n",
       "</table>\n",
       "<p>5 rows × 45 columns</p>\n",
       "</div>"
      ],
      "text/plain": [
       "         id    spkid       full_name  pdes     name  prefix neo pha     H  \\\n",
       "0  a0000001  2000001         1 Ceres     1    Ceres     NaN   N   N  3.40   \n",
       "1  a0000002  2000002        2 Pallas     2   Pallas     NaN   N   N  4.20   \n",
       "2  a0000003  2000003          3 Juno     3     Juno     NaN   N   N  5.33   \n",
       "3  a0000004  2000004         4 Vesta     4    Vesta     NaN   N   N  3.00   \n",
       "4  a0000005  2000005       5 Astraea     5  Astraea     NaN   N   N  6.90   \n",
       "\n",
       "   diameter  ...       sigma_i      sigma_om       sigma_w      sigma_ma  \\\n",
       "0   939.400  ...  4.608900e-09  6.168800e-08  6.624800e-08  7.820700e-09   \n",
       "1   545.000  ...  3.469400e-06  6.272400e-06  9.128200e-06  8.859100e-06   \n",
       "2   246.596  ...  3.223100e-06  1.664600e-05  1.772100e-05  8.110400e-06   \n",
       "3   525.400  ...  2.170600e-07  3.880800e-07  1.789300e-07  1.206800e-06   \n",
       "4   106.699  ...  2.740800e-06  2.894900e-05  2.984200e-05  8.303800e-06   \n",
       "\n",
       "       sigma_ad       sigma_n      sigma_tp     sigma_per  class      rms  \n",
       "0  1.111300e-11  1.196500e-12  3.782900e-08  9.415900e-09    MBA  0.43301  \n",
       "1  4.961300e-09  4.653600e-10  4.078700e-05  3.680700e-06    MBA  0.35936  \n",
       "2  4.363900e-09  4.413400e-10  3.528800e-05  3.107200e-06    MBA  0.33848  \n",
       "3  1.648600e-09  2.612500e-10  4.103700e-06  1.274900e-06    MBA  0.39980  \n",
       "4  4.729000e-09  5.522700e-10  3.474300e-05  3.490500e-06    MBA  0.52191  \n",
       "\n",
       "[5 rows x 45 columns]"
      ]
     },
     "execution_count": 5,
     "metadata": {},
     "output_type": "execute_result"
    }
   ],
   "source": [
    "# Check data types and info\n",
    "print(astro_ds.dtypes)\n",
    "astro_ds.head()"
   ]
  },
  {
   "cell_type": "code",
   "execution_count": 6,
   "id": "e838bd71-8985-4afa-b165-19ac92147cde",
   "metadata": {
    "scrolled": true
   },
   "outputs": [
    {
     "data": {
      "text/html": [
       "<div>\n",
       "<style scoped>\n",
       "    .dataframe tbody tr th:only-of-type {\n",
       "        vertical-align: middle;\n",
       "    }\n",
       "\n",
       "    .dataframe tbody tr th {\n",
       "        vertical-align: top;\n",
       "    }\n",
       "\n",
       "    .dataframe thead th {\n",
       "        text-align: right;\n",
       "    }\n",
       "</style>\n",
       "<table border=\"1\" class=\"dataframe\">\n",
       "  <thead>\n",
       "    <tr style=\"text-align: right;\">\n",
       "      <th></th>\n",
       "      <th>spkid</th>\n",
       "      <th>H</th>\n",
       "      <th>diameter</th>\n",
       "      <th>albedo</th>\n",
       "      <th>diameter_sigma</th>\n",
       "      <th>epoch</th>\n",
       "      <th>epoch_mjd</th>\n",
       "      <th>epoch_cal</th>\n",
       "      <th>e</th>\n",
       "      <th>a</th>\n",
       "      <th>...</th>\n",
       "      <th>sigma_i</th>\n",
       "      <th>sigma_om</th>\n",
       "      <th>sigma_w</th>\n",
       "      <th>sigma_ma</th>\n",
       "      <th>sigma_ad</th>\n",
       "      <th>sigma_n</th>\n",
       "      <th>sigma_tp</th>\n",
       "      <th>sigma_per</th>\n",
       "      <th>class</th>\n",
       "      <th>rms</th>\n",
       "    </tr>\n",
       "  </thead>\n",
       "  <tbody>\n",
       "    <tr>\n",
       "      <th>0</th>\n",
       "      <td>2000001</td>\n",
       "      <td>3.40</td>\n",
       "      <td>939.400</td>\n",
       "      <td>0.0900</td>\n",
       "      <td>0.200</td>\n",
       "      <td>2458600.5</td>\n",
       "      <td>58600</td>\n",
       "      <td>20190427.0</td>\n",
       "      <td>0.076009</td>\n",
       "      <td>2.769165</td>\n",
       "      <td>...</td>\n",
       "      <td>4.608900e-09</td>\n",
       "      <td>6.168800e-08</td>\n",
       "      <td>6.624800e-08</td>\n",
       "      <td>7.820700e-09</td>\n",
       "      <td>1.111300e-11</td>\n",
       "      <td>1.196500e-12</td>\n",
       "      <td>3.782900e-08</td>\n",
       "      <td>9.415900e-09</td>\n",
       "      <td>MBA</td>\n",
       "      <td>0.43301</td>\n",
       "    </tr>\n",
       "    <tr>\n",
       "      <th>1</th>\n",
       "      <td>2000002</td>\n",
       "      <td>4.20</td>\n",
       "      <td>545.000</td>\n",
       "      <td>0.1010</td>\n",
       "      <td>18.000</td>\n",
       "      <td>2459000.5</td>\n",
       "      <td>59000</td>\n",
       "      <td>20200531.0</td>\n",
       "      <td>0.229972</td>\n",
       "      <td>2.773841</td>\n",
       "      <td>...</td>\n",
       "      <td>3.469400e-06</td>\n",
       "      <td>6.272400e-06</td>\n",
       "      <td>9.128200e-06</td>\n",
       "      <td>8.859100e-06</td>\n",
       "      <td>4.961300e-09</td>\n",
       "      <td>4.653600e-10</td>\n",
       "      <td>4.078700e-05</td>\n",
       "      <td>3.680700e-06</td>\n",
       "      <td>MBA</td>\n",
       "      <td>0.35936</td>\n",
       "    </tr>\n",
       "    <tr>\n",
       "      <th>2</th>\n",
       "      <td>2000003</td>\n",
       "      <td>5.33</td>\n",
       "      <td>246.596</td>\n",
       "      <td>0.2140</td>\n",
       "      <td>10.594</td>\n",
       "      <td>2459000.5</td>\n",
       "      <td>59000</td>\n",
       "      <td>20200531.0</td>\n",
       "      <td>0.256936</td>\n",
       "      <td>2.668285</td>\n",
       "      <td>...</td>\n",
       "      <td>3.223100e-06</td>\n",
       "      <td>1.664600e-05</td>\n",
       "      <td>1.772100e-05</td>\n",
       "      <td>8.110400e-06</td>\n",
       "      <td>4.363900e-09</td>\n",
       "      <td>4.413400e-10</td>\n",
       "      <td>3.528800e-05</td>\n",
       "      <td>3.107200e-06</td>\n",
       "      <td>MBA</td>\n",
       "      <td>0.33848</td>\n",
       "    </tr>\n",
       "    <tr>\n",
       "      <th>3</th>\n",
       "      <td>2000004</td>\n",
       "      <td>3.00</td>\n",
       "      <td>525.400</td>\n",
       "      <td>0.4228</td>\n",
       "      <td>0.200</td>\n",
       "      <td>2458600.5</td>\n",
       "      <td>58600</td>\n",
       "      <td>20190427.0</td>\n",
       "      <td>0.088721</td>\n",
       "      <td>2.361418</td>\n",
       "      <td>...</td>\n",
       "      <td>2.170600e-07</td>\n",
       "      <td>3.880800e-07</td>\n",
       "      <td>1.789300e-07</td>\n",
       "      <td>1.206800e-06</td>\n",
       "      <td>1.648600e-09</td>\n",
       "      <td>2.612500e-10</td>\n",
       "      <td>4.103700e-06</td>\n",
       "      <td>1.274900e-06</td>\n",
       "      <td>MBA</td>\n",
       "      <td>0.39980</td>\n",
       "    </tr>\n",
       "    <tr>\n",
       "      <th>4</th>\n",
       "      <td>2000005</td>\n",
       "      <td>6.90</td>\n",
       "      <td>106.699</td>\n",
       "      <td>0.2740</td>\n",
       "      <td>3.140</td>\n",
       "      <td>2459000.5</td>\n",
       "      <td>59000</td>\n",
       "      <td>20200531.0</td>\n",
       "      <td>0.190913</td>\n",
       "      <td>2.574037</td>\n",
       "      <td>...</td>\n",
       "      <td>2.740800e-06</td>\n",
       "      <td>2.894900e-05</td>\n",
       "      <td>2.984200e-05</td>\n",
       "      <td>8.303800e-06</td>\n",
       "      <td>4.729000e-09</td>\n",
       "      <td>5.522700e-10</td>\n",
       "      <td>3.474300e-05</td>\n",
       "      <td>3.490500e-06</td>\n",
       "      <td>MBA</td>\n",
       "      <td>0.52191</td>\n",
       "    </tr>\n",
       "  </tbody>\n",
       "</table>\n",
       "<p>5 rows × 36 columns</p>\n",
       "</div>"
      ],
      "text/plain": [
       "     spkid     H  diameter  albedo  diameter_sigma      epoch  epoch_mjd  \\\n",
       "0  2000001  3.40   939.400  0.0900           0.200  2458600.5      58600   \n",
       "1  2000002  4.20   545.000  0.1010          18.000  2459000.5      59000   \n",
       "2  2000003  5.33   246.596  0.2140          10.594  2459000.5      59000   \n",
       "3  2000004  3.00   525.400  0.4228           0.200  2458600.5      58600   \n",
       "4  2000005  6.90   106.699  0.2740           3.140  2459000.5      59000   \n",
       "\n",
       "    epoch_cal         e         a  ...       sigma_i      sigma_om  \\\n",
       "0  20190427.0  0.076009  2.769165  ...  4.608900e-09  6.168800e-08   \n",
       "1  20200531.0  0.229972  2.773841  ...  3.469400e-06  6.272400e-06   \n",
       "2  20200531.0  0.256936  2.668285  ...  3.223100e-06  1.664600e-05   \n",
       "3  20190427.0  0.088721  2.361418  ...  2.170600e-07  3.880800e-07   \n",
       "4  20200531.0  0.190913  2.574037  ...  2.740800e-06  2.894900e-05   \n",
       "\n",
       "        sigma_w      sigma_ma      sigma_ad       sigma_n      sigma_tp  \\\n",
       "0  6.624800e-08  7.820700e-09  1.111300e-11  1.196500e-12  3.782900e-08   \n",
       "1  9.128200e-06  8.859100e-06  4.961300e-09  4.653600e-10  4.078700e-05   \n",
       "2  1.772100e-05  8.110400e-06  4.363900e-09  4.413400e-10  3.528800e-05   \n",
       "3  1.789300e-07  1.206800e-06  1.648600e-09  2.612500e-10  4.103700e-06   \n",
       "4  2.984200e-05  8.303800e-06  4.729000e-09  5.522700e-10  3.474300e-05   \n",
       "\n",
       "      sigma_per  class      rms  \n",
       "0  9.415900e-09    MBA  0.43301  \n",
       "1  3.680700e-06    MBA  0.35936  \n",
       "2  3.107200e-06    MBA  0.33848  \n",
       "3  1.274900e-06    MBA  0.39980  \n",
       "4  3.490500e-06    MBA  0.52191  \n",
       "\n",
       "[5 rows x 36 columns]"
      ]
     },
     "execution_count": 6,
     "metadata": {},
     "output_type": "execute_result"
    }
   ],
   "source": [
    "# Drop columns early in the process\n",
    "columns_to_drop = ['id', 'full_name', 'pdes', 'name', 'prefix', 'neo', 'pha', 'orbit_id', 'equinox']\n",
    "astro_ds = astro_ds.drop(columns_to_drop, axis=1)\n",
    "astro_ds.head()"
   ]
  },
  {
   "cell_type": "code",
   "execution_count": 7,
   "id": "80517a8a-1b03-4987-a944-ae17f388ee92",
   "metadata": {
    "scrolled": true
   },
   "outputs": [
    {
     "data": {
      "text/html": [
       "<div>\n",
       "<style scoped>\n",
       "    .dataframe tbody tr th:only-of-type {\n",
       "        vertical-align: middle;\n",
       "    }\n",
       "\n",
       "    .dataframe tbody tr th {\n",
       "        vertical-align: top;\n",
       "    }\n",
       "\n",
       "    .dataframe thead th {\n",
       "        text-align: right;\n",
       "    }\n",
       "</style>\n",
       "<table border=\"1\" class=\"dataframe\">\n",
       "  <thead>\n",
       "    <tr style=\"text-align: right;\">\n",
       "      <th></th>\n",
       "      <th>spkid</th>\n",
       "      <th>H</th>\n",
       "      <th>diameter</th>\n",
       "      <th>albedo</th>\n",
       "      <th>diameter_sigma</th>\n",
       "      <th>epoch</th>\n",
       "      <th>epoch_mjd</th>\n",
       "      <th>epoch_cal</th>\n",
       "      <th>e</th>\n",
       "      <th>a</th>\n",
       "      <th>...</th>\n",
       "      <th>sigma_q</th>\n",
       "      <th>sigma_i</th>\n",
       "      <th>sigma_om</th>\n",
       "      <th>sigma_w</th>\n",
       "      <th>sigma_ma</th>\n",
       "      <th>sigma_ad</th>\n",
       "      <th>sigma_n</th>\n",
       "      <th>sigma_tp</th>\n",
       "      <th>sigma_per</th>\n",
       "      <th>rms</th>\n",
       "    </tr>\n",
       "  </thead>\n",
       "  <tbody>\n",
       "    <tr>\n",
       "      <th>count</th>\n",
       "      <td>9.585240e+05</td>\n",
       "      <td>952261.000000</td>\n",
       "      <td>136209.000000</td>\n",
       "      <td>135103.000000</td>\n",
       "      <td>136081.000000</td>\n",
       "      <td>9.585240e+05</td>\n",
       "      <td>958524.000000</td>\n",
       "      <td>9.585240e+05</td>\n",
       "      <td>958524.000000</td>\n",
       "      <td>958524.000000</td>\n",
       "      <td>...</td>\n",
       "      <td>9.386020e+05</td>\n",
       "      <td>9.386020e+05</td>\n",
       "      <td>9.386020e+05</td>\n",
       "      <td>9.386020e+05</td>\n",
       "      <td>9.386020e+05</td>\n",
       "      <td>9.385980e+05</td>\n",
       "      <td>9.386020e+05</td>\n",
       "      <td>9.386020e+05</td>\n",
       "      <td>9.385980e+05</td>\n",
       "      <td>958522.000000</td>\n",
       "    </tr>\n",
       "    <tr>\n",
       "      <th>mean</th>\n",
       "      <td>3.810114e+06</td>\n",
       "      <td>16.906411</td>\n",
       "      <td>5.506429</td>\n",
       "      <td>0.130627</td>\n",
       "      <td>0.479184</td>\n",
       "      <td>2.458869e+06</td>\n",
       "      <td>58868.781950</td>\n",
       "      <td>2.019693e+07</td>\n",
       "      <td>0.156116</td>\n",
       "      <td>2.902143</td>\n",
       "      <td>...</td>\n",
       "      <td>1.982929e+01</td>\n",
       "      <td>1.168449e+00</td>\n",
       "      <td>5.310234e+00</td>\n",
       "      <td>1.370062e+06</td>\n",
       "      <td>1.369977e+06</td>\n",
       "      <td>2.131453e+01</td>\n",
       "      <td>5.060221e-02</td>\n",
       "      <td>4.312780e+08</td>\n",
       "      <td>8.525815e+04</td>\n",
       "      <td>0.561153</td>\n",
       "    </tr>\n",
       "    <tr>\n",
       "      <th>std</th>\n",
       "      <td>6.831541e+06</td>\n",
       "      <td>1.790405</td>\n",
       "      <td>9.425164</td>\n",
       "      <td>0.110323</td>\n",
       "      <td>0.782895</td>\n",
       "      <td>7.016716e+02</td>\n",
       "      <td>701.671573</td>\n",
       "      <td>1.930354e+04</td>\n",
       "      <td>0.092643</td>\n",
       "      <td>39.719503</td>\n",
       "      <td>...</td>\n",
       "      <td>2.903785e+03</td>\n",
       "      <td>1.282231e+02</td>\n",
       "      <td>1.333381e+03</td>\n",
       "      <td>9.158996e+08</td>\n",
       "      <td>9.158991e+08</td>\n",
       "      <td>7.197034e+03</td>\n",
       "      <td>9.814953e+00</td>\n",
       "      <td>2.953046e+11</td>\n",
       "      <td>2.767681e+07</td>\n",
       "      <td>2.745700</td>\n",
       "    </tr>\n",
       "    <tr>\n",
       "      <th>min</th>\n",
       "      <td>2.000001e+06</td>\n",
       "      <td>-1.100000</td>\n",
       "      <td>0.002500</td>\n",
       "      <td>0.001000</td>\n",
       "      <td>0.000500</td>\n",
       "      <td>2.425052e+06</td>\n",
       "      <td>25051.000000</td>\n",
       "      <td>1.927062e+07</td>\n",
       "      <td>0.000000</td>\n",
       "      <td>-14702.447872</td>\n",
       "      <td>...</td>\n",
       "      <td>1.956900e-11</td>\n",
       "      <td>4.608900e-09</td>\n",
       "      <td>6.168800e-08</td>\n",
       "      <td>6.624800e-08</td>\n",
       "      <td>7.820700e-09</td>\n",
       "      <td>1.111300e-11</td>\n",
       "      <td>1.196500e-12</td>\n",
       "      <td>3.782900e-08</td>\n",
       "      <td>9.415900e-09</td>\n",
       "      <td>0.000000</td>\n",
       "    </tr>\n",
       "    <tr>\n",
       "      <th>25%</th>\n",
       "      <td>2.234853e+06</td>\n",
       "      <td>16.500000</td>\n",
       "      <td>3.174000</td>\n",
       "      <td>0.069000</td>\n",
       "      <td>0.257000</td>\n",
       "      <td>2.459000e+06</td>\n",
       "      <td>59000.000000</td>\n",
       "      <td>2.020053e+07</td>\n",
       "      <td>0.101109</td>\n",
       "      <td>2.419544</td>\n",
       "      <td>...</td>\n",
       "      <td>1.465500e-07</td>\n",
       "      <td>6.123925e-06</td>\n",
       "      <td>5.050300e-05</td>\n",
       "      <td>6.537500e-05</td>\n",
       "      <td>3.093900e-05</td>\n",
       "      <td>2.331700e-08</td>\n",
       "      <td>3.008025e-09</td>\n",
       "      <td>1.342400e-04</td>\n",
       "      <td>1.815800e-05</td>\n",
       "      <td>0.545030</td>\n",
       "    </tr>\n",
       "    <tr>\n",
       "      <th>50%</th>\n",
       "      <td>2.472890e+06</td>\n",
       "      <td>17.300000</td>\n",
       "      <td>4.649000</td>\n",
       "      <td>0.102000</td>\n",
       "      <td>0.487000</td>\n",
       "      <td>2.459000e+06</td>\n",
       "      <td>59000.000000</td>\n",
       "      <td>2.020053e+07</td>\n",
       "      <td>0.163274</td>\n",
       "      <td>2.675917</td>\n",
       "      <td>...</td>\n",
       "      <td>2.977450e-07</td>\n",
       "      <td>1.032100e-05</td>\n",
       "      <td>9.441200e-05</td>\n",
       "      <td>1.272275e-04</td>\n",
       "      <td>6.443200e-05</td>\n",
       "      <td>6.726850e-08</td>\n",
       "      <td>6.711900e-09</td>\n",
       "      <td>2.941000e-04</td>\n",
       "      <td>5.373900e-05</td>\n",
       "      <td>0.582160</td>\n",
       "    </tr>\n",
       "    <tr>\n",
       "      <th>75%</th>\n",
       "      <td>3.762552e+06</td>\n",
       "      <td>18.618000</td>\n",
       "      <td>6.201000</td>\n",
       "      <td>0.188000</td>\n",
       "      <td>0.812000</td>\n",
       "      <td>2.459000e+06</td>\n",
       "      <td>59000.000000</td>\n",
       "      <td>2.020053e+07</td>\n",
       "      <td>0.228230</td>\n",
       "      <td>3.041111</td>\n",
       "      <td>...</td>\n",
       "      <td>9.311900e-05</td>\n",
       "      <td>1.006100e-03</td>\n",
       "      <td>1.334400e-03</td>\n",
       "      <td>1.325300e-02</td>\n",
       "      <td>2.569900e-02</td>\n",
       "      <td>1.603500e-04</td>\n",
       "      <td>2.676450e-06</td>\n",
       "      <td>8.251200e-02</td>\n",
       "      <td>1.153200e-01</td>\n",
       "      <td>0.635050</td>\n",
       "    </tr>\n",
       "    <tr>\n",
       "      <th>max</th>\n",
       "      <td>5.401723e+07</td>\n",
       "      <td>33.200000</td>\n",
       "      <td>939.400000</td>\n",
       "      <td>1.000000</td>\n",
       "      <td>140.000000</td>\n",
       "      <td>2.459000e+06</td>\n",
       "      <td>59000.000000</td>\n",
       "      <td>2.020053e+07</td>\n",
       "      <td>1.855356</td>\n",
       "      <td>33488.895955</td>\n",
       "      <td>...</td>\n",
       "      <td>1.015000e+06</td>\n",
       "      <td>5.533000e+04</td>\n",
       "      <td>1.199100e+06</td>\n",
       "      <td>8.845100e+11</td>\n",
       "      <td>8.845100e+11</td>\n",
       "      <td>5.509700e+06</td>\n",
       "      <td>7.698800e+03</td>\n",
       "      <td>2.853100e+14</td>\n",
       "      <td>1.910700e+10</td>\n",
       "      <td>2686.600000</td>\n",
       "    </tr>\n",
       "  </tbody>\n",
       "</table>\n",
       "<p>8 rows × 35 columns</p>\n",
       "</div>"
      ],
      "text/plain": [
       "              spkid              H       diameter         albedo  \\\n",
       "count  9.585240e+05  952261.000000  136209.000000  135103.000000   \n",
       "mean   3.810114e+06      16.906411       5.506429       0.130627   \n",
       "std    6.831541e+06       1.790405       9.425164       0.110323   \n",
       "min    2.000001e+06      -1.100000       0.002500       0.001000   \n",
       "25%    2.234853e+06      16.500000       3.174000       0.069000   \n",
       "50%    2.472890e+06      17.300000       4.649000       0.102000   \n",
       "75%    3.762552e+06      18.618000       6.201000       0.188000   \n",
       "max    5.401723e+07      33.200000     939.400000       1.000000   \n",
       "\n",
       "       diameter_sigma         epoch      epoch_mjd     epoch_cal  \\\n",
       "count   136081.000000  9.585240e+05  958524.000000  9.585240e+05   \n",
       "mean         0.479184  2.458869e+06   58868.781950  2.019693e+07   \n",
       "std          0.782895  7.016716e+02     701.671573  1.930354e+04   \n",
       "min          0.000500  2.425052e+06   25051.000000  1.927062e+07   \n",
       "25%          0.257000  2.459000e+06   59000.000000  2.020053e+07   \n",
       "50%          0.487000  2.459000e+06   59000.000000  2.020053e+07   \n",
       "75%          0.812000  2.459000e+06   59000.000000  2.020053e+07   \n",
       "max        140.000000  2.459000e+06   59000.000000  2.020053e+07   \n",
       "\n",
       "                   e              a  ...       sigma_q       sigma_i  \\\n",
       "count  958524.000000  958524.000000  ...  9.386020e+05  9.386020e+05   \n",
       "mean        0.156116       2.902143  ...  1.982929e+01  1.168449e+00   \n",
       "std         0.092643      39.719503  ...  2.903785e+03  1.282231e+02   \n",
       "min         0.000000  -14702.447872  ...  1.956900e-11  4.608900e-09   \n",
       "25%         0.101109       2.419544  ...  1.465500e-07  6.123925e-06   \n",
       "50%         0.163274       2.675917  ...  2.977450e-07  1.032100e-05   \n",
       "75%         0.228230       3.041111  ...  9.311900e-05  1.006100e-03   \n",
       "max         1.855356   33488.895955  ...  1.015000e+06  5.533000e+04   \n",
       "\n",
       "           sigma_om       sigma_w      sigma_ma      sigma_ad       sigma_n  \\\n",
       "count  9.386020e+05  9.386020e+05  9.386020e+05  9.385980e+05  9.386020e+05   \n",
       "mean   5.310234e+00  1.370062e+06  1.369977e+06  2.131453e+01  5.060221e-02   \n",
       "std    1.333381e+03  9.158996e+08  9.158991e+08  7.197034e+03  9.814953e+00   \n",
       "min    6.168800e-08  6.624800e-08  7.820700e-09  1.111300e-11  1.196500e-12   \n",
       "25%    5.050300e-05  6.537500e-05  3.093900e-05  2.331700e-08  3.008025e-09   \n",
       "50%    9.441200e-05  1.272275e-04  6.443200e-05  6.726850e-08  6.711900e-09   \n",
       "75%    1.334400e-03  1.325300e-02  2.569900e-02  1.603500e-04  2.676450e-06   \n",
       "max    1.199100e+06  8.845100e+11  8.845100e+11  5.509700e+06  7.698800e+03   \n",
       "\n",
       "           sigma_tp     sigma_per            rms  \n",
       "count  9.386020e+05  9.385980e+05  958522.000000  \n",
       "mean   4.312780e+08  8.525815e+04       0.561153  \n",
       "std    2.953046e+11  2.767681e+07       2.745700  \n",
       "min    3.782900e-08  9.415900e-09       0.000000  \n",
       "25%    1.342400e-04  1.815800e-05       0.545030  \n",
       "50%    2.941000e-04  5.373900e-05       0.582160  \n",
       "75%    8.251200e-02  1.153200e-01       0.635050  \n",
       "max    2.853100e+14  1.910700e+10    2686.600000  \n",
       "\n",
       "[8 rows x 35 columns]"
      ]
     },
     "execution_count": 7,
     "metadata": {},
     "output_type": "execute_result"
    }
   ],
   "source": [
    "astro_ds.describe().compute()"
   ]
  },
  {
   "cell_type": "code",
   "execution_count": 8,
   "id": "8b76dd3c-e98d-4cd4-9a18-df692501b925",
   "metadata": {
    "scrolled": true
   },
   "outputs": [
    {
     "data": {
      "text/plain": [
       "spkid                  0\n",
       "H                   6263\n",
       "diameter          822315\n",
       "albedo            823421\n",
       "diameter_sigma    822443\n",
       "epoch                  0\n",
       "epoch_mjd              0\n",
       "epoch_cal              0\n",
       "e                      0\n",
       "a                      0\n",
       "q                      0\n",
       "i                      0\n",
       "om                     0\n",
       "w                      0\n",
       "ma                     1\n",
       "ad                     4\n",
       "n                      0\n",
       "tp                     0\n",
       "tp_cal                 0\n",
       "per                    4\n",
       "per_y                  1\n",
       "moid               19921\n",
       "moid_ld              127\n",
       "sigma_e            19922\n",
       "sigma_a            19922\n",
       "sigma_q            19922\n",
       "sigma_i            19922\n",
       "sigma_om           19922\n",
       "sigma_w            19922\n",
       "sigma_ma           19922\n",
       "sigma_ad           19926\n",
       "sigma_n            19922\n",
       "sigma_tp           19922\n",
       "sigma_per          19926\n",
       "class                  0\n",
       "rms                    2\n",
       "dtype: int64"
      ]
     },
     "execution_count": 8,
     "metadata": {},
     "output_type": "execute_result"
    }
   ],
   "source": [
    "astro_ds.isnull().sum().compute()"
   ]
  },
  {
   "cell_type": "markdown",
   "id": "ecadcdfb-66eb-49ef-9574-8d429eff8664",
   "metadata": {},
   "source": [
    "#### Null Value Handling"
   ]
  },
  {
   "cell_type": "code",
   "execution_count": 9,
   "id": "aca33682-d528-4ef7-8955-16d4da15cb4e",
   "metadata": {},
   "outputs": [],
   "source": [
    "# Prepare features for imputation (excluding the target 'class')\n",
    "X = astro_ds.drop(['class'], axis=1)\n",
    "y = astro_ds['class']"
   ]
  },
  {
   "cell_type": "code",
   "execution_count": 10,
   "id": "6db10d03-1b6d-4353-8e59-5bfd7bf7dcf5",
   "metadata": {},
   "outputs": [],
   "source": [
    "# Applying SimpleImputer from Dask-ML to handle missing values in parallel\n",
    "imputer = SimpleImputer(strategy='median')\n",
    "\n",
    "# Since Dask works with lazy evaluation, use compute() to perform the computation\n",
    "X_imputed = imputer.fit_transform(X)"
   ]
  },
  {
   "cell_type": "code",
   "execution_count": 11,
   "id": "f4789167-a154-46e3-9eed-10dd69539db9",
   "metadata": {},
   "outputs": [
    {
     "name": "stdout",
     "output_type": "stream",
     "text": [
      "[########################################] | 100% Completed | 2.44 ss\n",
      "[########################################] | 100% Completed | 1.67 ss\n"
     ]
    }
   ],
   "source": [
    "# Ensure that imputation and other transformations are computed efficiently\n",
    "with ProgressBar():\n",
    "    X_imputed = X_imputed.compute()  # This will trigger the actual computation\n",
    "    y = y.compute()  # Ensure the target variable is also ready for model training"
   ]
  },
  {
   "cell_type": "markdown",
   "id": "e7de593c-08aa-4222-9720-2a3a3bae1164",
   "metadata": {},
   "source": [
    "### Feature Importance\n",
    "\n",
    "\n",
    "- Using the Extra Trees Classifier using `JOBLIB` and `MULTIPROCESSING` libraries"
   ]
  },
  {
   "cell_type": "code",
   "execution_count": 12,
   "id": "eadac9fb-2cd7-41fc-ada3-0bce7308aa4f",
   "metadata": {},
   "outputs": [
    {
     "name": "stdout",
     "output_type": "stream",
     "text": [
      "CPU times: user 3.13 s, sys: 3.2 s, total: 6.33 s\n",
      "Wall time: 13.6 s\n"
     ]
    }
   ],
   "source": [
    "%%time\n",
    "# Split data into training and test sets (consider doing this before imputation if you want a more rigorous evaluation)\n",
    "X_train, X_test, y_train, y_test = train_test_split(X_imputed, y, test_size=0.2,shuffle =True ,random_state=42)\n",
    "\n",
    "# Initialize the ExtraTreesClassifier\n",
    "# Note: You can adjust n_estimators, max_depth, and other parameters as needed\n",
    "etc = ExtraTreesClassifier(n_estimators=100, random_state=42, n_jobs=-1)\n",
    "\n",
    "# To leverage parallel computation with Dask when performing model fitting\n",
    "with ProgressBar(),joblib.parallel_backend('multiprocessing'):\n",
    "    # Fit the model\n",
    "    etc.fit(X_train, y_train)"
   ]
  },
  {
   "cell_type": "markdown",
   "id": "387a2319-d6a3-4805-9f4d-ad26b237befe",
   "metadata": {},
   "source": [
    "#### Visualizing the feature importances"
   ]
  },
  {
   "cell_type": "code",
   "execution_count": 13,
   "id": "e9cdec87-16b5-4b7a-9a89-0582650c7a45",
   "metadata": {},
   "outputs": [
    {
     "name": "stdout",
     "output_type": "stream",
     "text": [
      "Feature importances:\n",
      "spkid: 0.00385\n",
      "H: 0.04009\n",
      "diameter: 0.00133\n",
      "albedo: 0.00177\n",
      "diameter_sigma: 0.00093\n",
      "epoch: 0.00234\n",
      "epoch_mjd: 0.00255\n",
      "epoch_cal: 0.00275\n",
      "e: 0.07411\n",
      "a: 0.09232\n",
      "q: 0.12400\n",
      "i: 0.03087\n",
      "om: 0.00209\n",
      "w: 0.00265\n",
      "ma: 0.00333\n",
      "ad: 0.05627\n",
      "n: 0.14841\n",
      "tp: 0.00530\n",
      "tp_cal: 0.00540\n",
      "per: 0.09265\n",
      "per_y: 0.08823\n",
      "moid: 0.11557\n",
      "moid_ld: 0.08445\n",
      "sigma_e: 0.00127\n",
      "sigma_a: 0.00125\n",
      "sigma_q: 0.00154\n",
      "sigma_i: 0.00162\n",
      "sigma_om: 0.00159\n",
      "sigma_w: 0.00154\n",
      "sigma_ma: 0.00157\n",
      "sigma_ad: 0.00129\n",
      "sigma_n: 0.00109\n",
      "sigma_tp: 0.00155\n",
      "sigma_per: 0.00191\n",
      "rms: 0.00254\n"
     ]
    },
    {
     "data": {
      "image/png": "[encoded data removed]",
      "text/plain": [
       "<Figure size 1000x800 with 1 Axes>"
      ]
     },
     "metadata": {},
     "output_type": "display_data"
    }
   ],
   "source": [
    "# Compute and print feature importances\n",
    "feature_importances = etc.feature_importances_\n",
    "\n",
    "# Create a dictionary to hold feature names and their importance values\n",
    "features = X_train.columns\n",
    "feature_importance_dict = dict(zip(features, feature_importances))\n",
    "\n",
    "# Print feature importances along with their names\n",
    "print(\"Feature importances:\")\n",
    "for feature, importance in feature_importance_dict.items():\n",
    "    print(f\"{feature}: {importance:.5f}\")\n",
    "\n",
    "# Visualize the feature importance\n",
    "plt.figure(figsize=(10, 8))\n",
    "indices = np.argsort(feature_importances)\n",
    "plt.title('Feature Importances')\n",
    "plt.barh(range(len(indices)), feature_importances[indices], color='b', align='center')\n",
    "plt.yticks(range(len(indices)), [features[i] for i in indices])\n",
    "plt.xlabel('Relative Importance')\n",
    "plt.show()"
   ]
  },
  {
   "cell_type": "markdown",
   "id": "c7a4e93e-79e6-426a-8250-b4ad82cbf556",
   "metadata": {},
   "source": [
    "#### Selection of Importance Features"
   ]
  },
  {
   "cell_type": "code",
   "execution_count": 14,
   "id": "a56570ac-642c-4c80-a2a4-05bb1442a551",
   "metadata": {},
   "outputs": [
    {
     "name": "stdout",
     "output_type": "stream",
     "text": [
      "Selected features: ['H', 'e', 'a', 'q', 'i', 'ad', 'n', 'per', 'per_y', 'moid', 'moid_ld']\n"
     ]
    }
   ],
   "source": [
    "threshold = np.mean(feature_importances)  # Define your threshold here\n",
    "\n",
    "# Selecting features with importance greater than the threshold\n",
    "selected_features = [feature for feature, importance in zip(X_train.columns, feature_importances) if importance > threshold]\n",
    "\n",
    "print(\"Selected features:\", selected_features)"
   ]
  },
  {
   "cell_type": "code",
   "execution_count": 15,
   "id": "b7485eeb-0bf2-4ba5-aeaa-6997758798b4",
   "metadata": {},
   "outputs": [],
   "source": [
    "# Include 'class' in selected features\n",
    "selected_features.append('class')\n",
    "\n",
    "# Filter the original Dask DataFrame to include only selected features\n",
    "astro_ds_filtered = astro_ds[selected_features]"
   ]
  },
  {
   "cell_type": "code",
   "execution_count": 16,
   "id": "c6220d29-2631-458b-8999-7467ba6291cd",
   "metadata": {},
   "outputs": [
    {
     "data": {
      "text/plain": [
       "H           6263\n",
       "e              0\n",
       "a              0\n",
       "q              0\n",
       "i              0\n",
       "ad             4\n",
       "n              0\n",
       "per            4\n",
       "per_y          1\n",
       "moid       19921\n",
       "moid_ld      127\n",
       "class          0\n",
       "dtype: int64"
      ]
     },
     "execution_count": 16,
     "metadata": {},
     "output_type": "execute_result"
    }
   ],
   "source": [
    "astro_ds_filtered.isnull().sum().compute()"
   ]
  },
  {
   "cell_type": "code",
   "execution_count": 17,
   "id": "f2b6a7db-3953-4d78-92ec-0b0830e62290",
   "metadata": {},
   "outputs": [],
   "source": [
    "# Prepare features for imputation (excluding the target 'class')\n",
    "X = astro_ds_filtered.drop(['class'], axis=1)\n",
    "y = astro_ds_filtered['class']"
   ]
  },
  {
   "cell_type": "code",
   "execution_count": 18,
   "id": "27fd2cce-adcb-4802-8e97-eaf2a96877a7",
   "metadata": {},
   "outputs": [],
   "source": [
    "# Applying SimpleImputer from Dask-ML to handle missing values in parallel\n",
    "imputer = SimpleImputer(strategy='median')\n",
    "\n",
    "# Since Dask works with lazy evaluation, use compute() to perform the computation\n",
    "X_imputed = imputer.fit_transform(X)"
   ]
  },
  {
   "cell_type": "code",
   "execution_count": 19,
   "id": "73065202-19b4-473a-8ad0-b9ba87d0209a",
   "metadata": {},
   "outputs": [
    {
     "name": "stdout",
     "output_type": "stream",
     "text": [
      "[########################################] | 100% Completed | 1.68 ss\n",
      "[########################################] | 100% Completed | 1.62 ss\n"
     ]
    }
   ],
   "source": [
    "# Ensure that imputation and other transformations are computed efficiently\n",
    "with ProgressBar():\n",
    "    X_imputed = X_imputed.compute()  # This will trigger the actual computation\n",
    "    y = y.compute()  # Ensure the target variable is also ready for model training"
   ]
  },
  {
   "cell_type": "code",
   "execution_count": 20,
   "id": "8affa5dd-d810-4b89-9fbe-2a4c23dd3e2b",
   "metadata": {},
   "outputs": [
    {
     "data": {
      "text/plain": [
       "array(['MBA', 'OMB', 'MCA', 'AMO', 'IMB', 'TJN', 'CEN', 'APO', 'ATE',\n",
       "       'AST', 'TNO', 'IEO', 'HYA'], dtype=object)"
      ]
     },
     "execution_count": 20,
     "metadata": {},
     "output_type": "execute_result"
    }
   ],
   "source": [
    "y.unique()"
   ]
  },
  {
   "cell_type": "markdown",
   "id": "66398420-e2f8-48b1-a8aa-d82f2076954c",
   "metadata": {},
   "source": [
    "### Test Train Split"
   ]
  },
  {
   "cell_type": "code",
   "execution_count": 21,
   "id": "cbc94752-c76f-4e80-b5c1-1ca0f6984456",
   "metadata": {},
   "outputs": [],
   "source": [
    "# Split the data into training and test sets\n",
    "#from dask_ml.model_selection import GridSearchCV,train_test_split\n",
    "X_train, X_test, y_train, y_test = train_test_split(X_imputed, y, test_size=0.2,shuffle=True, random_state=42)"
   ]
  },
  {
   "cell_type": "code",
   "execution_count": 22,
   "id": "14ef977a-0381-4bf0-ae18-b8faadfe0eb0",
   "metadata": {},
   "outputs": [
    {
     "data": {
      "text/plain": [
       "(pandas.core.frame.DataFrame,\n",
       " pandas.core.frame.DataFrame,\n",
       " pandas.core.series.Series,\n",
       " pandas.core.series.Series)"
      ]
     },
     "execution_count": 22,
     "metadata": {},
     "output_type": "execute_result"
    }
   ],
   "source": [
    "type(X_train),type(X_test),type(y_train),type(y_test)"
   ]
  },
  {
   "cell_type": "markdown",
   "id": "0f3f6d0c-b1ee-42f8-9d29-0db1e5b350af",
   "metadata": {},
   "source": [
    "#### Scaling and Encoding"
   ]
  },
  {
   "cell_type": "code",
   "execution_count": 23,
   "id": "3665dfbf-fc0c-42d7-94e0-df758c759cc1",
   "metadata": {},
   "outputs": [],
   "source": [
    "# Scaling the data using Dask-ML's StandardScaler\n",
    "scaler = StandardScaler()\n",
    "X_train_scaled = scaler.fit_transform(X_train)\n",
    "X_test_scaled = scaler.transform(X_test)"
   ]
  },
  {
   "cell_type": "code",
   "execution_count": 24,
   "id": "619bc988-83e7-4cfd-8a68-d56171ad186c",
   "metadata": {},
   "outputs": [],
   "source": [
    "encoder = LabelEncoder()\n",
    "y_train_encoded = encoder.fit_transform(y_train)\n",
    "y_test_encoded = encoder.transform(y_test)"
   ]
  },
  {
   "cell_type": "code",
   "execution_count": 25,
   "id": "46c42ca4-c478-46ef-aaaa-9958f3a608c3",
   "metadata": {},
   "outputs": [
    {
     "data": {
      "text/plain": [
       "(numpy.ndarray, numpy.ndarray, numpy.ndarray, numpy.ndarray)"
      ]
     },
     "execution_count": 25,
     "metadata": {},
     "output_type": "execute_result"
    }
   ],
   "source": [
    "type(X_train_scaled),type(X_test_scaled),type(y_train_encoded),type(y_test_encoded)"
   ]
  },
  {
   "cell_type": "code",
   "execution_count": 26,
   "id": "676f18f7-1562-4f49-8eb8-67a48e04bd6b",
   "metadata": {},
   "outputs": [
    {
     "data": {
      "text/plain": [
       "((766819, 11), (191705, 11), (766819,), (191705,))"
      ]
     },
     "execution_count": 26,
     "metadata": {},
     "output_type": "execute_result"
    }
   ],
   "source": [
    "X_train_scaled.shape,X_test_scaled.shape,y_train_encoded.shape,y_test_encoded.shape"
   ]
  },
  {
   "cell_type": "code",
   "execution_count": 27,
   "id": "a7ff1b3a-d323-48c3-8155-8b7b7dafd511",
   "metadata": {},
   "outputs": [],
   "source": [
    "# If these are pandas DataFrame, convert them to Dask DataFrame\n",
    "#X_train, y_train, X_test, y_test = dd.from_pandas(X_train), dd.from_pandas(y_train), dd.from_pandas(X_test), dd.from_pandas(y_test)"
   ]
  },
  {
   "cell_type": "code",
   "execution_count": 28,
   "id": "3e60c6ac-2c37-4979-86c1-fa897b74fb88",
   "metadata": {},
   "outputs": [
    {
     "data": {
      "text/plain": [
       "(766819, 11)"
      ]
     },
     "execution_count": 28,
     "metadata": {},
     "output_type": "execute_result"
    }
   ],
   "source": [
    "X_train.shape"
   ]
  },
  {
   "cell_type": "markdown",
   "id": "2339ce17-4095-4465-bd9b-8c3b288f1860",
   "metadata": {},
   "source": [
    "## KNN"
   ]
  },
  {
   "cell_type": "markdown",
   "id": "269b3335-a9b3-4b8b-b576-32d17d06ec40",
   "metadata": {},
   "source": [
    "#### Parameter Grid"
   ]
  },
  {
   "cell_type": "code",
   "execution_count": 29,
   "id": "7b98aeac-c8ae-4ca1-a52a-21f6fd189b7c",
   "metadata": {},
   "outputs": [],
   "source": [
    "# Setup hyperparameter grid\n",
    "param_grid_knn = {\n",
    "    'n_neighbors': [3, 5],\n",
    "    'weights': ['uniform', 'distance'],\n",
    "    'p': [1]  # 1=Manhattan Distance, 2=Euclidean Distance\n",
    "}\n",
    "\n",
    "# # Setup hyperparameter grid\n",
    "# param_grid_knn = {\n",
    "#     'n_neighbors': [3, 5, 7, 10],\n",
    "#     'weights': ['uniform', 'distance'],\n",
    "#     'p': [1, 2]  # 1=Manhattan Distance, 2=Euclidean Distance\n",
    "# }"
   ]
  },
  {
   "cell_type": "markdown",
   "id": "e0a4075e-bb8c-41a4-b0f3-4f4421173743",
   "metadata": {},
   "source": [
    "### Running KNN on multiple CPUs\n",
    "- **Using Dask Client and Joblib for parallelization**"
   ]
  },
  {
   "cell_type": "code",
   "execution_count": 30,
   "id": "6d2551a1-cf7a-4c9f-ba51-240e0595e7d1",
   "metadata": {},
   "outputs": [],
   "source": [
    "import warnings\n",
    "warnings.filterwarnings('ignore', category=UserWarning)\n",
    "def run_knn_with_different_cpus(X_train_scaled, y_train, X_test_scaled, y_test, param_grid, cpu_configs):\n",
    "    results = {}\n",
    "    X_train_dask = da.from_array(X_train_scaled, chunks=(20000, X_train_scaled.shape[1]))\n",
    "    X_test_dask = da.from_array(X_test_scaled, chunks=(20000, X_test_scaled.shape[1]))\n",
    "\n",
    "    for cpus in cpu_configs:\n",
    "        print(f\"KNN for {cpus} CPUs\\n\")\n",
    "        # Close the existing Dask client if it is open\n",
    "        if 'client' in locals():\n",
    "            client.close()\n",
    "\n",
    "        # Calculate the number of workers and threads per worker\n",
    "        threads_per_worker = 4\n",
    "        n_workers = cpus // threads_per_worker\n",
    "        \n",
    "\n",
    "        # Initialize a new Dask client with the current configuration\n",
    "        client = Client(n_workers=n_workers, threads_per_worker=threads_per_worker,dashboard_address=':0')\n",
    "\n",
    "        # Print the Dask dashboard URL\n",
    "        print(f\"Dask Dashboard URL for {cpus} CPUs: {client.dashboard_link}\")\n",
    "\n",
    "        # Set up the KNN model with grid search\n",
    "        knn = KNeighborsClassifier()\n",
    "        grid_search_knn = GridSearchCV(knn, param_grid, cv=3, scoring='accuracy')\n",
    "\n",
    "        # Use Dask's ProgressBar and measure time\n",
    "        with ProgressBar():\n",
    "            start_time = time.time()\n",
    "            with joblib.parallel_backend('dask'):\n",
    "                grid_search_knn.fit(X_train_dask, y_train)\n",
    "            end_time = time.time()\n",
    "\n",
    "        # Time taken\n",
    "        time_taken_knn = end_time - start_time\n",
    "        print(f\"Time taken for hyperparameter tuning of KNN: {time_taken_knn:.2f} seconds\")\n",
    "\n",
    "        # Best parameters and accuracy\n",
    "        best_params = grid_search_knn.best_params_\n",
    "        best_score = grid_search_knn.best_score_\n",
    "        best_knn = grid_search_knn.best_estimator_\n",
    "        predictions_knn = best_knn.predict(X_test_dask)\n",
    "        accuracy_knn = accuracy_score(y_test, predictions_knn)\n",
    "\n",
    "        # Store results\n",
    "        results[cpus] = {\n",
    "            'Time Taken': end_time - start_time,\n",
    "            'Best Parameters': grid_search_knn.best_params_,\n",
    "            'Best Score': grid_search_knn.best_score_,\n",
    "            'Best Estimator': best_knn,\n",
    "            'Test Accuracy': accuracy_knn,\n",
    "            'Predictions': predictions_knn\n",
    "        }\n",
    "        # Close client after use\n",
    "        client.close()\n",
    "\n",
    "    # Plotting the results\n",
    "    cpus_list = list(results.keys())\n",
    "    training_times = [results[cpus]['Time Taken'] for cpus in cpus_list]\n",
    "    accuracies = [results[cpus]['Test Accuracy'] for cpus in cpus_list]\n",
    "\n",
    "    plt.figure(figsize=(10, 5))\n",
    "    plt.plot(cpus_list, training_times, marker='o', color='b')\n",
    "    plt.title('Training Time Across Different CPU Configurations for KNN')\n",
    "    plt.xlabel('Number of CPUs')\n",
    "    plt.ylabel('Training Time (seconds)')\n",
    "    plt.grid(True)\n",
    "    plt.show()\n",
    "\n",
    "    plt.figure(figsize=(10, 5))\n",
    "    plt.plot(cpus_list, accuracies, marker='o', color='r')\n",
    "    plt.title('Accuracy Across Different CPU Configurations for KNN')\n",
    "    plt.xlabel('Number of CPUs')\n",
    "    plt.ylabel('Accuracy')\n",
    "    plt.grid(True)\n",
    "    plt.show()\n",
    "\n",
    "    return results"
   ]
  },
  {
   "cell_type": "code",
   "execution_count": 31,
   "id": "24960bb6-72df-45da-9bbf-49b43685d9d1",
   "metadata": {},
   "outputs": [
    {
     "name": "stdout",
     "output_type": "stream",
     "text": [
      "KNN for 4 CPUs\n",
      "\n",
      "Dask Dashboard URL for 4 CPUs: http://127.0.0.1:34504/status\n",
      "Time taken for hyperparameter tuning of KNN: 176.17 seconds\n",
      "KNN for 8 CPUs\n",
      "\n",
      "Dask Dashboard URL for 8 CPUs: http://127.0.0.1:36764/status\n",
      "Time taken for hyperparameter tuning of KNN: 140.52 seconds\n",
      "KNN for 16 CPUs\n",
      "\n",
      "Dask Dashboard URL for 16 CPUs: http://127.0.0.1:33894/status\n",
      "Time taken for hyperparameter tuning of KNN: 89.16 seconds\n",
      "KNN for 20 CPUs\n",
      "\n",
      "Dask Dashboard URL for 20 CPUs: http://127.0.0.1:37754/status\n",
      "Time taken for hyperparameter tuning of KNN: 88.92 seconds\n"
     ]
    },
    {
     "data": {
      "image/png": "[encoded data removed]",
      "text/plain": [
       "<Figure size 1000x500 with 1 Axes>"
      ]
     },
     "metadata": {},
     "output_type": "display_data"
    },
    {
     "data": {
      "image/png": "[encoded data removed]",
      "text/plain": [
       "<Figure size 1000x500 with 1 Axes>"
      ]
     },
     "metadata": {},
     "output_type": "display_data"
    },
    {
     "name": "stdout",
     "output_type": "stream",
     "text": [
      "Total time taken for KNN on multiple CPUs:575.135174036026seconds\n"
     ]
    }
   ],
   "source": [
    "start=time.time()\n",
    "cpu_configs = [4,8,16,20]\n",
    "results = run_knn_with_different_cpus(X_train_scaled, y_train, X_test_scaled, y_test, param_grid_knn, cpu_configs)\n",
    "end=time.time()\n",
    "print(f\"Total time taken for KNN on multiple CPUs:{end-start}seconds\")"
   ]
  }
 ],
 "metadata": {
  "kernelspec": {
   "display_name": "Python 3 (ipykernel)",
   "language": "python",
   "name": "python3"
  },
  "language_info": {
   "codemirror_mode": {
    "name": "ipython",
    "version": 3
   },
   "file_extension": ".py",
   "mimetype": "text/x-python",
   "name": "python",
   "nbconvert_exporter": "python",
   "pygments_lexer": "ipython3",
   "version": "3.10.14"
  }
 },
 "nbformat": 4,
 "nbformat_minor": 5
}
