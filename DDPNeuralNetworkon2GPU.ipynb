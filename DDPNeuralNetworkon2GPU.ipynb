{
 "cells": [
  {
   "cell_type": "markdown",
   "id": "5c29361a-0556-415a-b693-dd22ea4cb600",
   "metadata": {},
   "source": [
    "# Asteroid Class Prediction Leveraging Parallelization Techniques \n",
    "\n",
    "<div style=\"text-align: right\">  \n",
    "<strong>Uday Kiran Dasari</strong> \n",
    "</div>\n",
    "<br/>\n",
    "<center>\n",
    "<img src=\"Asteroid.jpg\" width=700 />\n",
    "</center>\n",
    "<br/>\n",
    "\n",
    "**Link to Dataset used**: [**Asteroid Dataset**](https://www.kaggle.com/datasets/sakhawat18/asteroid-dataset/data)\n",
    "\n",
    "### Dataset Description\n",
    "\n",
    "- **SPK-ID:** Object primary SPK-ID\n",
    "- **Object ID:** Object internal database ID\n",
    "- **Object fullname:** Object full name/designation\n",
    "- **pdes:** Object primary designation\n",
    "- **name:** Object IAU name\n",
    "- **NEO:** Near-Earth Object (NEO) flag\n",
    "- **PHA:** Potentially Hazardous Asteroid (PHA) flag\n",
    "- **H:** Absolute magnitude parameter\n",
    "- **Diameter:** Object diameter (from equivalent sphere) km Unit\n",
    "- **Albedo:** Geometric albedo\n",
    "- **Diameter_sigma:** 1-sigma uncertainty in object diameter km Unit\n",
    "- **Orbit_id:** Orbit solution ID\n",
    "- **Epoch:** Epoch of osculation in modified Julian day form\n",
    "- **Equinox:** Equinox of reference frame\n",
    "- **e:** Eccentricity\n",
    "- **a:** Semi-major axis au Unit\n",
    "- **q:** Perihelion distance au Unit\n",
    "- **i:** Inclination; angle with respect to x-y ecliptic plane\n",
    "- **tp:** Time of perihelion passage TDB Unit\n",
    "- **moid_ld:** Earth Minimum Orbit Intersection Distance au Unit\n",
    "-y ecliptic plane"
   ]
  },
  {
   "cell_type": "code",
   "execution_count": 1,
   "id": "b659a10d-eccf-4246-b99d-ea7233fef01f",
   "metadata": {},
   "outputs": [],
   "source": [
    "# Basic imports\n",
    "import os\n",
    "import time\n",
    "import joblib\n",
    "import numpy as np\n",
    "import pandas as pd\n",
    "from tqdm import tqdm    \n",
    "    \n",
    "# Visualization imports\n",
    "import matplotlib\n",
    "import matplotlib.pyplot as plt\n",
    "import seaborn as sns\n",
    "import multiprocessing\n",
    "    \n",
    "# Scikit-learn imports\n",
    "from sklearn.ensemble import ExtraTreesClassifier\n",
    "from sklearn.preprocessing import StandardScaler, OneHotEncoder, LabelEncoder\n",
    "    \n",
    "# Dask-related imports\n",
    "import dask\n",
    "import dask.array as da\n",
    "import dask.dataframe as dd\n",
    "from dask_ml.impute import SimpleImputer\n",
    "from dask.distributed import config\n",
    "from dask_ml.model_selection import train_test_split\n",
    "    \n",
    "# Set the daemon configuration for Dask workers\n",
    "dask.config.set({'distributed.worker.daemon': False})\n",
    "    \n",
    "# PyTorch imports\n",
    "import torch\n",
    "from torch import nn, optim\n",
    "from torch.utils.data import DataLoader, TensorDataset\n",
    "import torch.distributed as dist\n",
    "from torch.utils.data.distributed import DistributedSampler\n",
    "from torch.nn.parallel import DistributedDataParallel as DDP\n",
    "import torch.multiprocessing as mp"
   ]
  },
  {
   "cell_type": "code",
   "execution_count": 2,
   "id": "535a0953-83b8-469f-bbbf-7ac2f627007f",
   "metadata": {},
   "outputs": [],
   "source": [
    "def dataloading(path='./dataset.csv'):\n",
    "    astro_ds = dd.read_csv(path)\n",
    "    # Dropping irrelavant columns early in the process\n",
    "    columns_to_drop = ['id', 'full_name', 'pdes', 'name', 'prefix', 'neo', 'pha', 'orbit_id', 'equinox']\n",
    "    astro_ds = astro_ds.drop(columns_to_drop, axis=1)\n",
    "    print(\"Data Loaded and dropped irrelavant columns!!\")\n",
    "    return astro_ds\n",
    "\n",
    "def nullvalue_handling(astro_ds):\n",
    "    # Prepare features for imputation (excluding the target 'class')\n",
    "    X = astro_ds.drop(['class'], axis=1)\n",
    "    y = astro_ds['class']\n",
    "    # Applying SimpleImputer from Dask-ML to handle missing values in parallel\n",
    "    imputer = SimpleImputer(strategy='median')\n",
    "\n",
    "    # Since Dask works with lazy evaluation, use compute() to perform the computation\n",
    "    X_imputed = imputer.fit_transform(X)\n",
    "    # Ensure that imputation and other transformations are computed efficiently\n",
    "\n",
    "    with tqdm(total=2, desc=\"Computing DataFrames\") as pbar:\n",
    "        X_imputed = X_imputed.compute()\n",
    "        pbar.update(1)  # Update progress after computing X_imputed\n",
    "        y = y.compute()\n",
    "        pbar.update(1)  # Update progress after computing y\n",
    "    print(\"Null Value Handling Done!\")\n",
    "    return X_imputed,y\n",
    "\n",
    "def feature_importance(X_imputed,y):\n",
    "    # Split data into training and test sets\n",
    "    X_train, X_test, y_train, y_test = train_test_split(X_imputed, y, test_size=0.2,shuffle =True ,random_state=42)\n",
    "    # Initialize the ExtraTreesClassifier\n",
    "    # We can adjust n_estimators, max_depth, and other parameters as needed\n",
    "    etc = ExtraTreesClassifier(n_estimators=100, random_state=42, n_jobs=-1)\n",
    "    \n",
    "    # To leverage parallel computation with multiprocessing when performing model fitting\n",
    "    with joblib.parallel_backend('multiprocessing'):\n",
    "        #Fit the model\n",
    "        etc.fit(X_train, y_train)\n",
    "    # Compute and print feature importances\n",
    "    feature_importances = etc.feature_importances_\n",
    "    \n",
    "    threshold = np.mean(feature_importances)  # Define your threshold here\n",
    "    \n",
    "    # Selecting features with importance greater than the threshold\n",
    "    selected_features = [feature for feature, importance in zip(X_train.columns, feature_importances) if importance > threshold]\n",
    "    \n",
    "    # Include 'class' in selected features\n",
    "    selected_features.append('class')\n",
    "    \n",
    "    # Filter the original Dask DataFrame to include only selected features\n",
    "    astro_ds_filtered = astro_ds[selected_features]\n",
    "    print(\"Feature Extraction done!\")\n",
    "    return astro_ds_filtered\n",
    "\n",
    "\n",
    "def dataprep(X_train,X_test,y_train,y_test):\n",
    "    # Scaling the data using Dask-ML's StandardScaler\n",
    "    scaler = StandardScaler()\n",
    "    X_train_scaled = scaler.fit_transform(X_train)\n",
    "    X_test_scaled = scaler.transform(X_test)\n",
    "    # Encoding the target label using LabelEncoder\n",
    "    encoder = LabelEncoder()\n",
    "    y_train_encoded = encoder.fit_transform(y_train)\n",
    "    y_test_encoded = encoder.transform(y_test)\n",
    "    print(\"Scaling and Encoding Done!\")\n",
    "    return X_train_scaled,X_test_scaled,y_train_encoded,y_test_encoded\n",
    "\n",
    "def tensordataset(X_train, y_train, X_test, y_test):\n",
    "    # Convert test and train sets to tensors\n",
    "    X_train_tensor = torch.tensor(X_train, dtype=torch.float32)\n",
    "    X_test_tensor = torch.tensor(X_test, dtype=torch.float32)\n",
    "\n",
    "    y_train_tensor = torch.tensor(y_train, dtype=torch.long)\n",
    "    y_test_tensor = torch.tensor(y_test, dtype=torch.long)\n",
    "    \n",
    "    #Generation of Train and Test Tensor dataset    \n",
    "    train_dataset=TensorDataset(X_train_tensor,y_train_tensor)\n",
    "    val_dataset=TensorDataset(X_test_tensor,y_test_tensor)\n",
    "    input_size=X_train_tensor.shape[1]\n",
    "    \n",
    "    print(f\"Tensor Conversion and dataset prep done!!Input Size:{input_size}\")\n",
    "    return train_dataset,val_dataset,input_size\n",
    "\n",
    "def plot_metrics(train_losses, val_losses, train_accuracies, val_accuracies):\n",
    "    plt.figure(figsize=(12, 6))\n",
    "\n",
    "    plt.subplot(1, 2, 1)\n",
    "    plt.plot(train_losses, label='Training Loss')\n",
    "    plt.plot(val_losses, label='Validation Loss')\n",
    "    plt.title('Training and Validation Loss')\n",
    "    plt.xlabel('Epochs')\n",
    "    plt.ylabel('Loss')\n",
    "    plt.legend()\n",
    "\n",
    "    plt.subplot(1, 2, 2)\n",
    "    plt.plot(train_accuracies, label='Training Accuracy')\n",
    "    plt.plot(val_accuracies, label='Validation Accuracy')\n",
    "    plt.title('Training and Validation Accuracy')\n",
    "    plt.xlabel('Epochs')\n",
    "    plt.ylabel('Accuracy (%)')\n",
    "    plt.legend()\n",
    "\n",
    "    plt.show()"
   ]
  },
  {
   "cell_type": "code",
   "execution_count": 3,
   "id": "265e46fb-0293-4f54-9e9b-e02ff004d0a2",
   "metadata": {},
   "outputs": [],
   "source": [
    "class SimpleNN(nn.Module):\n",
    "    def __init__(self, input_size, hidden_size, num_classes):\n",
    "        super(SimpleNN, self).__init__()\n",
    "        self.fc1 = nn.Linear(input_size, hidden_size)  # Linear layer mapping input to hidden layer\n",
    "        self.relu = nn.ReLU()  # ReLU activation function\n",
    "        self.fc2 = nn.Linear(hidden_size, num_classes)  # Linear layer mapping hidden layer to output classes\n",
    "\n",
    "    def forward(self, x):\n",
    "        out = self.fc1(x)  # Pass input through first linear layer\n",
    "        out = self.relu(out)  # Apply ReLU activation function\n",
    "        out = self.fc2(out)  # Pass through second linear layer to get class scores\n",
    "        return out\n",
    "\n",
    "class RobustNN(nn.Module):\n",
    "    def __init__(self, input_size, hidden_size, num_classes):\n",
    "        super(RobustNN, self).__init__()\n",
    "        self.layer1 = nn.Linear(input_size, hidden_size)  # First linear layer\n",
    "        self.bn1 = nn.BatchNorm1d(hidden_size)  # Batch normalization for first hidden layer\n",
    "        self.relu = nn.ReLU()  # ReLU activation function\n",
    "        self.dropout = nn.Dropout(0.5)  # Dropout for regularization with 50% probability\n",
    "        self.layer2 = nn.Linear(hidden_size, hidden_size // 2)  # Second linear layer reducing size\n",
    "        self.bn2 = nn.BatchNorm1d(hidden_size // 2)  # Batch normalization for second hidden layer\n",
    "        self.layer3 = nn.Linear(hidden_size // 2, num_classes)  # Final linear layer to output classes\n",
    "\n",
    "    def forward(self, x):\n",
    "        x = self.layer1(x)  # Pass input through the first layer\n",
    "        x = self.bn1(x)  # Apply batch normalization\n",
    "        x = self.relu(x)  # Apply ReLU activation\n",
    "        x = self.dropout(x)  # Apply dropout\n",
    "        x = self.layer2(x)  # Pass through the second linear layer\n",
    "        x = self.bn2(x)  # Apply batch normalization\n",
    "        x = self.relu(x)  # Apply ReLU activation\n",
    "        x = self.layer3(x)  # Output layer to get class scores\n",
    "        return x"
   ]
  },
  {
   "cell_type": "code",
   "execution_count": 4,
   "id": "a0abdb80-b916-4f60-972c-2b00d5371f31",
   "metadata": {},
   "outputs": [],
   "source": [
    "def setup(rank, world_size):\n",
    "    os.environ['MASTER_ADDR'] = 'localhost'\n",
    "    os.environ['MASTER_PORT'] = '65150'\n",
    "    torch.distributed.init_process_group('nccl', rank=rank, world_size=world_size)\n",
    "    torch.cuda.set_device(rank)  # set the current CUDA device using the rank\n",
    "    print(f\"[Rank {rank}] Initialization complete. Using world size {world_size}.\")\n",
    "def cleanup():\n",
    "    dist.destroy_process_group()"
   ]
  },
  {
   "cell_type": "code",
   "execution_count": 5,
   "id": "9df8e33a-8f1d-4fde-b86b-90ae0232460a",
   "metadata": {},
   "outputs": [],
   "source": [
    "def train(rank, world_size, input_size, train_dataset, val_dataset, batch_size=32, num_epochs=1):\n",
    "    setup(rank, world_size)  # Initialize DDP environment\n",
    "\n",
    "    # Initialize model and move it to the specified device (GPU)\n",
    "    model = RobustNN(input_size=input_size, hidden_size=13, num_classes=13).to(rank)\n",
    "    # Wrapped in DDP to synchronize gradients\n",
    "    ddp_model = DDP(model, device_ids=[rank])\n",
    "    \n",
    "    # Create samplers and loaders for training and validation datasets\n",
    "    train_sampler = DistributedSampler(train_dataset, num_replicas=world_size, rank=rank, shuffle=False)\n",
    "    train_loader = DataLoader(train_dataset, batch_size=batch_size, shuffle=False, sampler=train_sampler, pin_memory=False, num_workers=0)\n",
    "    val_sampler = DistributedSampler(val_dataset, num_replicas=world_size, rank=rank, shuffle=False)\n",
    "    val_loader = DataLoader(val_dataset, batch_size=batch_size, shuffle=False, sampler=val_sampler, pin_memory=False, num_workers=0)\n",
    "    \n",
    "    # Setup optimizer and loss function\n",
    "    optimizer = optim.Adam(ddp_model.parameters(), lr=0.001)\n",
    "    criterion = nn.CrossEntropyLoss()\n",
    "\n",
    "    # Metrics to keep track of progress\n",
    "    train_losses = []\n",
    "    val_losses = []\n",
    "    train_accuracies = []\n",
    "    val_accuracies = []\n",
    "    epoch_times = []\n",
    "    \n",
    "    total_start_time = time.time()\n",
    "    # Training loop\n",
    "    for epoch in tqdm(range(num_epochs)):\n",
    "        epoch_start_time = time.time()\n",
    "        train_sampler.set_epoch(epoch)  # Ensures proper shuffling per epoch\n",
    "        train_loss = 0.0\n",
    "        correct = 0\n",
    "        total = 0\n",
    "        ddp_model.train()  # Set model to training mode\n",
    "\n",
    "        for batch_idx, (inputs, labels) in enumerate(train_loader):\n",
    "            inputs, labels = inputs.to(rank), labels.to(rank)  # Move data to the correct device\n",
    "            optimizer.zero_grad()  # Clear gradients\n",
    "            outputs = ddp_model(inputs)  # Forward pass\n",
    "            loss = criterion(outputs, labels)  # Compute loss\n",
    "            loss.backward()  # Backpropagate error\n",
    "            optimizer.step()  # Update weights\n",
    "\n",
    "            train_loss += loss.item()\n",
    "            _, predicted = torch.max(outputs.data, 1)\n",
    "            total += labels.size(0)\n",
    "            correct += (predicted == labels).sum().item()\n",
    "\n",
    "        # Log training metrics\n",
    "        epoch_loss = train_loss / len(train_loader)\n",
    "        train_losses.append(epoch_loss)\n",
    "        train_accuracies.append(100 * correct / total)\n",
    "        print(f\"[Rank {rank}] Epoch {epoch+1} average loss: {epoch_loss}\")\n",
    "\n",
    "        # Validation step\n",
    "        ddp_model.eval()  # Set model to evaluation mode\n",
    "        val_loss = 0.0\n",
    "        correct = 0\n",
    "        total = 0\n",
    "        with torch.no_grad():\n",
    "            for inputs, labels in val_loader:\n",
    "                inputs, labels = inputs.to(rank), labels.to(rank)\n",
    "                outputs = ddp_model(inputs)\n",
    "                loss = criterion(outputs, labels)\n",
    "                val_loss += loss.item()\n",
    "                _, predicted = torch.max(outputs, 1)\n",
    "                total += labels.size(0)\n",
    "                correct += (predicted == labels).sum().item()\n",
    "\n",
    "        # Log validation metrics\n",
    "        val_losses.append(val_loss / len(val_loader))\n",
    "        val_accuracies.append(100 * correct / total)\n",
    "        print(f\"[Rank {rank}] Epoch {epoch+1} validation loss: {val_loss / len(val_loader)}\")\n",
    "        print(f\"[Rank {rank}] Epoch {epoch+1} validation accuracy: {100 * correct / total:.4f}\")\n",
    "\n",
    "        ddp_model.train()  # Set model back to training mode\n",
    "        epoch_time = time.time() - epoch_start_time\n",
    "        epoch_times.append(epoch_time)\n",
    "        print(f\"Rank {rank} and Epoch {epoch+1} Time Taken:{epoch_time:.2f} seconds\")\n",
    "\n",
    "    total_training_time = time.time() - total_start_time\n",
    "    print(f\"Rank {rank}: Total training time: {total_training_time:.2f} seconds\")\n",
    "    \n",
    "    cleanup()  # Clean up DDP setup\n",
    "    #if rank == 0:  # Plot metrics if this is the main process\n",
    "    #    plot_metrics(train_losses, val_losses, train_accuracies, val_accuracies)\n",
    "\n",
    "    print(\"Training Done!\")"
   ]
  },
  {
   "cell_type": "code",
   "execution_count": 6,
   "id": "fa046d9b-7f71-4e81-9be0-c31b9b1e3143",
   "metadata": {},
   "outputs": [
    {
     "name": "stdout",
     "output_type": "stream",
     "text": [
      "Data Loaded and dropped irrelavant columns!!\n"
     ]
    },
    {
     "name": "stderr",
     "output_type": "stream",
     "text": [
      "Computing DataFrames: 100%|██████████| 2/2 [00:02<00:00,  1.28s/it]\n"
     ]
    },
    {
     "name": "stdout",
     "output_type": "stream",
     "text": [
      "Null Value Handling Done!\n",
      "Feature Extraction done!\n"
     ]
    },
    {
     "name": "stderr",
     "output_type": "stream",
     "text": [
      "Computing DataFrames: 100%|██████████| 2/2 [00:02<00:00,  1.10s/it]\n"
     ]
    },
    {
     "name": "stdout",
     "output_type": "stream",
     "text": [
      "Null Value Handling Done!\n",
      "Scaling and Encoding Done!\n",
      "Tensor Conversion and dataset prep done!!Input Size:11\n",
      "World Size: 2\n",
      "[Rank 0] Initialization complete. Using world size 2.[Rank 1] Initialization complete. Using world size 2.\n",
      "\n"
     ]
    },
    {
     "name": "stderr",
     "output_type": "stream",
     "text": [
      "  0%|          | 0/15 [00:00<?, ?it/s]"
     ]
    },
    {
     "name": "stdout",
     "output_type": "stream",
     "text": [
      "[Rank 0] Epoch 1 average loss: 0.3272958091994773\n",
      "[Rank 1] Epoch 1 average loss: 0.32277676919165843\n",
      "[Rank 0] Epoch 1 validation loss: 0.3555653567014956\n",
      "[Rank 0] Epoch 1 validation accuracy: 92.2590\n",
      "Rank 0 and Epoch 1 Time Taken:32.62 seconds\n"
     ]
    },
    {
     "name": "stderr",
     "output_type": "stream",
     "text": [
      "  7%|▋         | 1/15 [00:32<07:36, 32.62s/it]"
     ]
    },
    {
     "name": "stdout",
     "output_type": "stream",
     "text": [
      "[Rank 1] Epoch 1 validation loss: 0.2539721305683524\n",
      "[Rank 1] Epoch 1 validation accuracy: 92.1797\n",
      "Rank 1 and Epoch 1 Time Taken:32.64 seconds\n"
     ]
    },
    {
     "name": "stderr",
     "output_type": "stream",
     "text": [
      "  7%|▋         | 1/15 [00:32<07:37, 32.65s/it]"
     ]
    },
    {
     "name": "stdout",
     "output_type": "stream",
     "text": [
      "[Rank 0] Epoch 2 average loss: 0.239117685327982[Rank 1] Epoch 2 average loss: 0.2362554477258181\n",
      "\n",
      "[Rank 0] Epoch 2 validation loss: 0.268182337105968\n",
      "[Rank 0] Epoch 2 validation accuracy: 91.7916\n",
      "Rank 0 and Epoch 2 Time Taken:29.62 seconds\n",
      "[Rank 1] Epoch 2 validation loss: 0.2734246399475557\n"
     ]
    },
    {
     "name": "stderr",
     "output_type": "stream",
     "text": [
      " 13%|█▎        | 2/15 [01:02<06:41, 30.86s/it]"
     ]
    },
    {
     "name": "stdout",
     "output_type": "stream",
     "text": [
      "[Rank 1] Epoch 2 validation accuracy: 91.6810\n",
      "Rank 1 and Epoch 2 Time Taken:29.59 seconds\n"
     ]
    },
    {
     "name": "stderr",
     "output_type": "stream",
     "text": [
      " 13%|█▎        | 2/15 [01:02<06:41, 30.85s/it]"
     ]
    },
    {
     "name": "stdout",
     "output_type": "stream",
     "text": [
      "[Rank 1] Epoch 3 average loss: 0.2269415640032957[Rank 0] Epoch 3 average loss: 0.22962470455917522\n",
      "\n",
      "[Rank 0] Epoch 3 validation loss: 0.2922938426124064\n",
      "[Rank 0] Epoch 3 validation accuracy: 91.0384\n",
      "Rank 0 and Epoch 3 Time Taken:29.22 seconds\n"
     ]
    },
    {
     "name": "stderr",
     "output_type": "stream",
     "text": [
      " 20%|██        | 3/15 [01:31<06:01, 30.11s/it]"
     ]
    },
    {
     "name": "stdout",
     "output_type": "stream",
     "text": [
      "[Rank 1] Epoch 3 validation loss: 0.30921557943867606\n",
      "[Rank 1] Epoch 3 validation accuracy: 90.9831\n",
      "Rank 1 and Epoch 3 Time Taken:29.23 seconds\n"
     ]
    },
    {
     "name": "stderr",
     "output_type": "stream",
     "text": [
      " 20%|██        | 3/15 [01:31<06:01, 30.11s/it]"
     ]
    },
    {
     "name": "stdout",
     "output_type": "stream",
     "text": [
      "[Rank 0] Epoch 4 average loss: 0.22799129161173504[Rank 1] Epoch 4 average loss: 0.22307905743492104\n",
      "\n",
      "[Rank 0] Epoch 4 validation loss: 0.293390121294474\n",
      "[Rank 0] Epoch 4 validation accuracy: 91.1615\n",
      "Rank 0 and Epoch 4 Time Taken:29.40 seconds\n"
     ]
    },
    {
     "name": "stderr",
     "output_type": "stream",
     "text": [
      " 27%|██▋       | 4/15 [02:00<05:28, 29.83s/it]"
     ]
    },
    {
     "name": "stdout",
     "output_type": "stream",
     "text": [
      "[Rank 1] Epoch 4 validation loss: 0.3095311858350578\n",
      "[Rank 1] Epoch 4 validation accuracy: 91.1103\n",
      "Rank 1 and Epoch 4 Time Taken:29.42 seconds\n"
     ]
    },
    {
     "name": "stderr",
     "output_type": "stream",
     "text": [
      " 27%|██▋       | 4/15 [02:00<05:28, 29.84s/it]"
     ]
    },
    {
     "name": "stdout",
     "output_type": "stream",
     "text": [
      "[Rank 0] Epoch 5 average loss: 0.224407133753106[Rank 1] Epoch 5 average loss: 0.22122273117800056\n",
      "\n",
      "[Rank 0] Epoch 5 validation loss: 0.290018310991566\n",
      "[Rank 0] Epoch 5 validation accuracy: 91.3200\n",
      "Rank 0 and Epoch 5 Time Taken:29.39 seconds\n"
     ]
    },
    {
     "name": "stderr",
     "output_type": "stream",
     "text": [
      " 33%|███▎      | 5/15 [02:30<04:56, 29.67s/it]"
     ]
    },
    {
     "name": "stdout",
     "output_type": "stream",
     "text": [
      "[Rank 1] Epoch 5 validation loss: 0.30463689705978664\n",
      "[Rank 1] Epoch 5 validation accuracy: 91.2627\n",
      "Rank 1 and Epoch 5 Time Taken:29.40 seconds\n"
     ]
    },
    {
     "name": "stderr",
     "output_type": "stream",
     "text": [
      " 33%|███▎      | 5/15 [02:30<04:56, 29.68s/it]"
     ]
    },
    {
     "name": "stdout",
     "output_type": "stream",
     "text": [
      "[Rank 0] Epoch 6 average loss: 0.22097926088342199[Rank 1] Epoch 6 average loss: 0.21797037521600127\n",
      "\n",
      "[Rank 0] Epoch 6 validation loss: 0.29993656018216697\n",
      "[Rank 0] Epoch 6 validation accuracy: 91.3607\n",
      "Rank 0 and Epoch 6 Time Taken:29.39 seconds\n"
     ]
    },
    {
     "name": "stderr",
     "output_type": "stream",
     "text": [
      " 40%|████      | 6/15 [02:59<04:26, 29.58s/it]"
     ]
    },
    {
     "name": "stdout",
     "output_type": "stream",
     "text": [
      "[Rank 1] Epoch 6 validation loss: 0.31408162607198387\n",
      "[Rank 1] Epoch 6 validation accuracy: 91.2950\n",
      "Rank 1 and Epoch 6 Time Taken:29.41 seconds\n"
     ]
    },
    {
     "name": "stderr",
     "output_type": "stream",
     "text": [
      " 40%|████      | 6/15 [02:59<04:26, 29.59s/it]"
     ]
    },
    {
     "name": "stdout",
     "output_type": "stream",
     "text": [
      "[Rank 0] Epoch 7 average loss: 0.22059475079376548[Rank 1] Epoch 7 average loss: 0.21680706238973854\n",
      "\n",
      "[Rank 0] Epoch 7 validation loss: 0.3305806951001734\n",
      "[Rank 0] Epoch 7 validation accuracy: 91.1625\n",
      "Rank 0 and Epoch 7 Time Taken:29.52 seconds\n"
     ]
    },
    {
     "name": "stderr",
     "output_type": "stream",
     "text": [
      " 47%|████▋     | 7/15 [03:29<03:56, 29.56s/it]"
     ]
    },
    {
     "name": "stdout",
     "output_type": "stream",
     "text": [
      "[Rank 1] Epoch 7 validation loss: 0.34263433932167575\n",
      "[Rank 1] Epoch 7 validation accuracy: 91.1124\n",
      "Rank 1 and Epoch 7 Time Taken:29.50 seconds\n"
     ]
    },
    {
     "name": "stderr",
     "output_type": "stream",
     "text": [
      " 47%|████▋     | 7/15 [03:29<03:56, 29.56s/it]"
     ]
    },
    {
     "name": "stdout",
     "output_type": "stream",
     "text": [
      "[Rank 1] Epoch 8 average loss: 0.217274254640467[Rank 0] Epoch 8 average loss: 0.21822373859787664\n",
      "\n",
      "[Rank 0] Epoch 8 validation loss: 0.30623558024721637\n",
      "[Rank 0] Epoch 8 validation accuracy: 91.6007\n",
      "Rank 0 and Epoch 8 Time Taken:47.07 seconds\n"
     ]
    },
    {
     "name": "stderr",
     "output_type": "stream",
     "text": [
      " 53%|█████▎    | 8/15 [04:16<04:05, 35.13s/it]"
     ]
    },
    {
     "name": "stdout",
     "output_type": "stream",
     "text": [
      "[Rank 1] Epoch 8 validation loss: 0.3197473269080288\n",
      "[Rank 1] Epoch 8 validation accuracy: 91.5496\n",
      "Rank 1 and Epoch 8 Time Taken:47.12 seconds\n"
     ]
    },
    {
     "name": "stderr",
     "output_type": "stream",
     "text": [
      " 53%|█████▎    | 8/15 [04:16<04:06, 35.15s/it]"
     ]
    },
    {
     "name": "stdout",
     "output_type": "stream",
     "text": [
      "[Rank 1] Epoch 9 average loss: 0.21439541003016555\n",
      "[Rank 0] Epoch 9 average loss: 0.2169497174198721\n",
      "[Rank 1] Epoch 9 validation loss: 0.34877027650873543\n",
      "[Rank 1] Epoch 9 validation accuracy: 91.0780\n",
      "Rank 1 and Epoch 9 Time Taken:44.25 seconds\n"
     ]
    },
    {
     "name": "stderr",
     "output_type": "stream",
     "text": [
      " 60%|██████    | 9/15 [05:00<03:47, 38.00s/it]"
     ]
    },
    {
     "name": "stdout",
     "output_type": "stream",
     "text": [
      "[Rank 0] Epoch 9 validation loss: 0.33678705951271054\n",
      "[Rank 0] Epoch 9 validation accuracy: 91.1250\n",
      "Rank 0 and Epoch 9 Time Taken:44.35 seconds\n"
     ]
    },
    {
     "name": "stderr",
     "output_type": "stream",
     "text": [
      " 60%|██████    | 9/15 [05:00<03:48, 38.02s/it]"
     ]
    },
    {
     "name": "stdout",
     "output_type": "stream",
     "text": [
      "[Rank 1] Epoch 10 average loss: 0.2148472899089155[Rank 0] Epoch 10 average loss: 0.21795488458847778\n",
      "\n",
      "[Rank 0] Epoch 10 validation loss: 0.34911601516235996\n",
      "[Rank 0] Epoch 10 validation accuracy: 91.0957\n",
      "Rank 0 and Epoch 10 Time Taken:31.59 seconds\n"
     ]
    },
    {
     "name": "stderr",
     "output_type": "stream",
     "text": [
      " 67%|██████▋   | 10/15 [05:32<03:00, 36.03s/it]"
     ]
    },
    {
     "name": "stdout",
     "output_type": "stream",
     "text": [
      "[Rank 1] Epoch 10 validation loss: 0.36175635399142075\n",
      "[Rank 1] Epoch 10 validation accuracy: 91.0717\n",
      "Rank 1 and Epoch 10 Time Taken:31.67 seconds\n"
     ]
    },
    {
     "name": "stderr",
     "output_type": "stream",
     "text": [
      " 67%|██████▋   | 10/15 [05:32<03:00, 36.05s/it]"
     ]
    },
    {
     "name": "stdout",
     "output_type": "stream",
     "text": [
      "[Rank 0] Epoch 11 average loss: 0.2164458089164253[Rank 1] Epoch 11 average loss: 0.2155000283438019\n",
      "\n",
      "[Rank 0] Epoch 11 validation loss: 0.33416412803263607\n",
      "[Rank 0] Epoch 11 validation accuracy: 91.3127\n",
      "Rank 0 and Epoch 11 Time Taken:29.65 seconds\n"
     ]
    },
    {
     "name": "stderr",
     "output_type": "stream",
     "text": [
      " 73%|███████▎  | 11/15 [06:01<02:16, 34.08s/it]"
     ]
    },
    {
     "name": "stdout",
     "output_type": "stream",
     "text": [
      "[Rank 1] Epoch 11 validation loss: 0.3478019203720565\n",
      "[Rank 1] Epoch 11 validation accuracy: 91.2533\n",
      "Rank 1 and Epoch 11 Time Taken:29.64 seconds\n"
     ]
    },
    {
     "name": "stderr",
     "output_type": "stream",
     "text": [
      " 73%|███████▎  | 11/15 [06:01<02:16, 34.09s/it]"
     ]
    },
    {
     "name": "stdout",
     "output_type": "stream",
     "text": [
      "[Rank 0] Epoch 12 average loss: 0.21687839769275913[Rank 1] Epoch 12 average loss: 0.21458757196325623\n",
      "\n",
      "[Rank 0] Epoch 12 validation loss: 0.35485312243138944\n",
      "[Rank 0] Epoch 12 validation accuracy: 91.0968\n",
      "Rank 0 and Epoch 12 Time Taken:29.55 seconds\n"
     ]
    },
    {
     "name": "stderr",
     "output_type": "stream",
     "text": [
      " 80%|████████  | 12/15 [06:31<01:38, 32.70s/it]"
     ]
    },
    {
     "name": "stdout",
     "output_type": "stream",
     "text": [
      "[Rank 1] Epoch 12 validation loss: 0.36670402257292295\n",
      "[Rank 1] Epoch 12 validation accuracy: 91.0634\n",
      "Rank 1 and Epoch 12 Time Taken:29.53 seconds\n"
     ]
    },
    {
     "name": "stderr",
     "output_type": "stream",
     "text": [
      " 80%|████████  | 12/15 [06:31<01:38, 32.70s/it]"
     ]
    },
    {
     "name": "stdout",
     "output_type": "stream",
     "text": [
      "[Rank 1] Epoch 13 average loss: 0.21411199768934602[Rank 0] Epoch 13 average loss: 0.2152028302320854\n",
      "\n",
      "[Rank 1] Epoch 13 validation loss: 0.3516010469293846\n",
      "[Rank 1] Epoch 13 validation accuracy: 90.8172\n",
      "Rank 1 and Epoch 13 Time Taken:29.38 seconds\n"
     ]
    },
    {
     "name": "stderr",
     "output_type": "stream",
     "text": [
      " 87%|████████▋ | 13/15 [07:00<01:03, 31.69s/it]"
     ]
    },
    {
     "name": "stdout",
     "output_type": "stream",
     "text": [
      "[Rank 0] Epoch 13 validation loss: 0.34190831230288105\n",
      "[Rank 0] Epoch 13 validation accuracy: 90.8454\n",
      "Rank 0 and Epoch 13 Time Taken:29.46 seconds\n"
     ]
    },
    {
     "name": "stderr",
     "output_type": "stream",
     "text": [
      " 87%|████████▋ | 13/15 [07:00<01:03, 31.72s/it]"
     ]
    },
    {
     "name": "stdout",
     "output_type": "stream",
     "text": [
      "[Rank 0] Epoch 14 average loss: 0.21550277665448972[Rank 1] Epoch 14 average loss: 0.21315887461781272\n",
      "\n",
      "[Rank 1] Epoch 14 validation loss: 0.357166972876749\n",
      "[Rank 1] Epoch 14 validation accuracy: 91.2126\n",
      "Rank 1 and Epoch 14 Time Taken:29.33 seconds\n"
     ]
    },
    {
     "name": "stderr",
     "output_type": "stream",
     "text": [
      " 93%|█████████▎| 14/15 [07:30<00:30, 30.98s/it]"
     ]
    },
    {
     "name": "stdout",
     "output_type": "stream",
     "text": [
      "[Rank 0] Epoch 14 validation loss: 0.3457732395120077\n",
      "[Rank 0] Epoch 14 validation accuracy: 91.2251\n",
      "Rank 0 and Epoch 14 Time Taken:29.34 seconds\n"
     ]
    },
    {
     "name": "stderr",
     "output_type": "stream",
     "text": [
      " 93%|█████████▎| 14/15 [07:30<00:31, 31.00s/it]"
     ]
    },
    {
     "name": "stdout",
     "output_type": "stream",
     "text": [
      "[Rank 1] Epoch 15 average loss: 0.21205837124228935[Rank 0] Epoch 15 average loss: 0.21436726243224755\n",
      "\n",
      "[Rank 1] Epoch 15 validation loss: 0.3212611956499487\n",
      "[Rank 1] Epoch 15 validation accuracy: 91.3253\n",
      "Rank 1 and Epoch 15 Time Taken:29.66 seconds\n"
     ]
    },
    {
     "name": "stderr",
     "output_type": "stream",
     "text": [
      "100%|██████████| 15/15 [07:59<00:00, 31.99s/it]\n"
     ]
    },
    {
     "name": "stdout",
     "output_type": "stream",
     "text": [
      "Rank 1: Total training time: 479.81 seconds\n",
      "Training Done!\n",
      "[Rank 0] Epoch 15 validation loss: 0.3100173177596403\n",
      "[Rank 0] Epoch 15 validation accuracy: 91.3378\n",
      "Rank 0 and Epoch 15 Time Taken:29.67 seconds\n"
     ]
    },
    {
     "name": "stderr",
     "output_type": "stream",
     "text": [
      "100%|██████████| 15/15 [07:59<00:00, 31.99s/it]\n"
     ]
    },
    {
     "name": "stdout",
     "output_type": "stream",
     "text": [
      "Rank 0: Total training time: 479.88 seconds\n",
      "Training Done!\n",
      "Total Elapsed time: 483.10 seconds\n"
     ]
    }
   ],
   "source": [
    "if __name__ == '__main__':\n",
    "    # Load dataset from CSV\n",
    "    astro_ds = dataloading(path='./dataset.csv')\n",
    "    \n",
    "    # Handle null values and separate features and labels\n",
    "    X_imputed, y = nullvalue_handling(astro_ds)\n",
    "    \n",
    "    # Select important features based on some criteria\n",
    "    astro_ds_filtered = feature_importance(X_imputed, y)\n",
    "    \n",
    "    # Re-handle null values after filtering features\n",
    "    X_imputed, y = nullvalue_handling(astro_ds_filtered)\n",
    "    \n",
    "    # Split data into training and testing sets\n",
    "    X_train, X_test, y_train, y_test = train_test_split(X_imputed, y, test_size=0.2, shuffle=True, random_state=42)\n",
    "    \n",
    "    # Prepare data by scaling features and encoding labels\n",
    "    X_train_scaled, X_test_scaled, y_train_encoded, y_test_encoded = dataprep(X_train, X_test, y_train, y_test)\n",
    "    \n",
    "    # Convert datasets to tensor datasets suitable for PyTorch\n",
    "    train_dataset, val_dataset, input_size = tensordataset(X_train_scaled, y_train_encoded, X_test_scaled, y_test_encoded)\n",
    "\n",
    "    # Start timing the distributed training setup\n",
    "    start_time = time.time()\n",
    "    \n",
    "    # Determine the number of GPUs available\n",
    "    world_size = torch.cuda.device_count()\n",
    "    print(f\"World Size: {world_size}\")\n",
    "    \n",
    "    processes = []\n",
    "    # Create a separate process for each GPU to handle training\n",
    "    for rank in range(world_size):\n",
    "        p = torch.multiprocessing.Process(target=train, args=(rank, world_size, input_size, train_dataset, val_dataset, 32, 15))\n",
    "        p.start()\n",
    "        processes.append(p)\n",
    "    \n",
    "    # Wait for all processes to finish\n",
    "    for p in processes:\n",
    "        p.join()\n",
    "\n",
    "    # Calculate and print the total elapsed time for training\n",
    "    end_time = time.time()\n",
    "    elapsed_time = end_time - start_time\n",
    "    print(f\"Total Elapsed time: {elapsed_time:.2f} seconds\")\n"
   ]
  }
 ],
 "metadata": {
  "kernelspec": {
   "display_name": "Python 3 (ipykernel)",
   "language": "python",
   "name": "python3"
  },
  "language_info": {
   "codemirror_mode": {
    "name": "ipython",
    "version": 3
   },
   "file_extension": ".py",
   "mimetype": "text/x-python",
   "name": "python",
   "nbconvert_exporter": "python",
   "pygments_lexer": "ipython3",
   "version": "3.10.14"
  }
 },
 "nbformat": 4,
 "nbformat_minor": 5
}
